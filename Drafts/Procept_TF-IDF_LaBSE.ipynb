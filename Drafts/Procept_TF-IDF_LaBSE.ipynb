{
 "cells": [
  {
   "cell_type": "markdown",
   "id": "69ab405b",
   "metadata": {},
   "source": [
    "<center>\n",
    "<h1>Хакатон Просепт х Практикум ноябрь-декабрь’23.\n",
    "<br>Команда №15. Хайзенберг team. </h1>    \n",
    "</center>   "
   ]
  },
  {
   "cell_type": "markdown",
   "id": "780fdb28",
   "metadata": {},
   "source": [
    "**Состав команды направления DS:**      \n",
    "**- Грибанов Михаил - Leader** [Telegram](https://t.me/gribanov_m) Выдвижение теорий, проверка моделей.     \n",
    "**- Сергеев Дмитрий**   [Telegram](https://t.me/SDI84) Анализ данных, проверка моделей.  \n",
    "**- Шубина Людмила** [Telegram](https://t.me/luybashu) Анализ данных, проверка моделей."
   ]
  },
  {
   "cell_type": "markdown",
   "id": "6817a9d5",
   "metadata": {},
   "source": [
    "<a name=\"Содержание\"></a>\n",
    "#### Содержание:\n",
    "- [1. Цель проекта.](#Цель_проекта)  \n",
    "- [2. Первичный анализ и обработка данных.](#Первичный_анализ_данных)\n",
    " - [2.1. Первичный анализ данных.](#Первичный)\n",
    "   - [2.1.1. Выводы по первичному анализу данных.](#Выводы_Первичный)\n",
    " - [2.2. Обработка данных.](#Обработка_данных)\n",
    " - [2.3. Создание тренировочной,валидационной и тестовой выборки.](#Выборки)   \n",
    "- [3. Выбор и исследование моделей.](#Исследование_моделей)\n",
    " - [3.1. Модели обученные на списке товаров производимых заказчиком.](#)\n",
    " - [3.2. Модели дообученные на таблице матчинга.](#)\n",
    "- [4. Тестирование лучшей модели.](#Выбор_лучшей_модели) \n",
    "- [5. Выводы.](#Выводы)\n",
    " - [5.1. Описание решения](#)"
   ]
  },
  {
   "cell_type": "markdown",
   "id": "fc429ae1",
   "metadata": {},
   "source": [
    "<a name=\"Цель_проекта\"></a>\n",
    "## 1.Цель проекта.\n",
    "Разработка решения, которое автоматизирует процесс сопоставления товаров заказчика с размещаемыми товарами дилеров.\n",
    "\n",
    "[Полное техническое задание заказчика](https://disk.yandex.ru/i/Dt7y-TFbPEp35Q)"
   ]
  },
  {
   "cell_type": "markdown",
   "id": "d4c11069",
   "metadata": {},
   "source": [
    "[Содержание](#Содержание) "
   ]
  },
  {
   "cell_type": "markdown",
   "id": "361753f9",
   "metadata": {},
   "source": [
    "<a name=\"Первичный_анализ_данных\"></a>\n",
    "## 2.Первичный анализ и обработка данных.\n"
   ]
  },
  {
   "cell_type": "markdown",
   "id": "c03a975b",
   "metadata": {},
   "source": [
    "Импорты необходимых билиотек:"
   ]
  },
  {
   "cell_type": "code",
   "execution_count": 1,
   "id": "660f36f2",
   "metadata": {},
   "outputs": [],
   "source": [
    "# импорт библиотек\n",
    "import os\n",
    "import re\n",
    "import warnings\n",
    "warnings.filterwarnings('ignore')\n",
    "\n",
    "import matplotlib.pyplot as plt\n",
    "import numpy as np\n",
    "import pandas as pd\n",
    "import seaborn as sns\n",
    "\n",
    "from sentence_transformers import SentenceTransformer, util\n",
    "from sklearn.feature_extraction.text import TfidfVectorizer\n",
    "from sklearn.metrics.pairwise import cosine_similarity"
   ]
  },
  {
   "cell_type": "code",
   "execution_count": 2,
   "id": "45fd533a",
   "metadata": {},
   "outputs": [],
   "source": [
    "# Исходные файлы\n",
    "DIR_DF = ['Datasets'] #путь к файлам датасетам;\n",
    "\n",
    "FILE_DEALER = 'marketing_dealer.csv'           #список дилеров;\n",
    "FILE_DEALERPRICE = 'marketing_dealerprice.csv' # результат работы парсера площадок дилеров\n",
    "FILE_PRODUCT = 'marketing_product.csv'         # база товаров заказчика\n",
    "FILE_PRODUCTDEALERKEY = 'marketing_productdealerkey.csv' # таблица матчинга товаров заказчика и товаров дилеров\n",
    "\n",
    "#Зададим константу случайного распределения\n",
    "RANDOM_STATE = 42"
   ]
  },
  {
   "cell_type": "markdown",
   "id": "fa5e0cd2",
   "metadata": {},
   "source": [
    "<a name=\"Первичный\"></a>\n",
    "### 2.1. Первичный анализ данных."
   ]
  },
  {
   "cell_type": "markdown",
   "id": "0d9c7a8e",
   "metadata": {},
   "source": [
    "Загрузка данных в датафреймы."
   ]
  },
  {
   "cell_type": "code",
   "execution_count": 3,
   "id": "3dc5d75f",
   "metadata": {},
   "outputs": [],
   "source": [
    "df_dealerprice = pd.read_csv(os.path.join(*DIR_DF,FILE_DEALERPRICE), sep=\";\", decimal=\",\",encoding='utf-8')\n",
    "df_product = pd.read_csv(os.path.join(*DIR_DF,FILE_PRODUCT), sep=\";\", decimal=\",\",encoding='utf-8')\n",
    "df_productdealerkey = pd.read_csv(os.path.join(*DIR_DF,FILE_PRODUCTDEALERKEY), sep=\";\", decimal=\",\",encoding='utf-8')\n",
    "df_dealer = pd.read_csv(os.path.join(*DIR_DF,FILE_DEALER), sep=\";\", decimal=\",\",encoding='utf-8')"
   ]
  },
  {
   "cell_type": "markdown",
   "id": "9f05d6e8",
   "metadata": {},
   "source": [
    "Функция представления общей информации о датафрейме."
   ]
  },
  {
   "cell_type": "code",
   "execution_count": 4,
   "id": "9765f675",
   "metadata": {},
   "outputs": [],
   "source": [
    "def express_info(data, name):\n",
    "    # вывод первых строк данных\n",
    "    print(f'Первые строки данных {name}:')\n",
    "    display(data.head())\n",
    "\n",
    "    # общая информация о данных\n",
    "    print(f'\\nОбщая информация о данных {name}:')\n",
    "    data.info()\n",
    "    \n",
    "    # проверка наличия пропущенных значений\n",
    "    print(f'\\nПропущенные значения {name}:')\n",
    "    display(data.isnull().sum())\n",
    "\n",
    "    # проверка наличия дубликатов\n",
    "    duplicate_count = data.duplicated().sum()\n",
    "    if duplicate_count > 0:\n",
    "        print(f'\\nКоличество дубликатов в данных {name}: {duplicate_count}')\n",
    "    else:\n",
    "        print(f'\\nДубликатов в данных {name} не обнаружено.')\n",
    "    \n",
    "    # количество уникальных значений\n",
    "    print(f'\\nУникальные значения {name}:')\n",
    "    display(data.nunique())"
   ]
  },
  {
   "cell_type": "markdown",
   "id": "f08ce6ef",
   "metadata": {},
   "source": [
    "#### Информация о датафрейме df_product - список товаров, которые производит и распространяет заказчик."
   ]
  },
  {
   "cell_type": "code",
   "execution_count": 5,
   "id": "aec25937",
   "metadata": {
    "scrolled": false
   },
   "outputs": [
    {
     "name": "stdout",
     "output_type": "stream",
     "text": [
      "Первые строки данных Product:\n"
     ]
    },
    {
     "data": {
      "text/html": [
       "<div>\n",
       "<style scoped>\n",
       "    .dataframe tbody tr th:only-of-type {\n",
       "        vertical-align: middle;\n",
       "    }\n",
       "\n",
       "    .dataframe tbody tr th {\n",
       "        vertical-align: top;\n",
       "    }\n",
       "\n",
       "    .dataframe thead th {\n",
       "        text-align: right;\n",
       "    }\n",
       "</style>\n",
       "<table border=\"1\" class=\"dataframe\">\n",
       "  <thead>\n",
       "    <tr style=\"text-align: right;\">\n",
       "      <th></th>\n",
       "      <th>Unnamed: 0</th>\n",
       "      <th>id</th>\n",
       "      <th>article</th>\n",
       "      <th>ean_13</th>\n",
       "      <th>name</th>\n",
       "      <th>cost</th>\n",
       "      <th>recommended_price</th>\n",
       "      <th>category_id</th>\n",
       "      <th>ozon_name</th>\n",
       "      <th>name_1c</th>\n",
       "      <th>wb_name</th>\n",
       "      <th>ozon_article</th>\n",
       "      <th>wb_article</th>\n",
       "      <th>ym_article</th>\n",
       "      <th>wb_article_td</th>\n",
       "    </tr>\n",
       "  </thead>\n",
       "  <tbody>\n",
       "    <tr>\n",
       "      <th>0</th>\n",
       "      <td>0</td>\n",
       "      <td>245</td>\n",
       "      <td>008-1</td>\n",
       "      <td>4680008140234.0</td>\n",
       "      <td>Антисептик невымываемыйPROSEPT ULTRAконцентрат...</td>\n",
       "      <td>360.0</td>\n",
       "      <td>858.0</td>\n",
       "      <td>20.0</td>\n",
       "      <td>Антисептик невымываемый для ответственных конс...</td>\n",
       "      <td>Антисептик невымываемый для ответственных конс...</td>\n",
       "      <td>Антисептик невымываемый для ответственных конс...</td>\n",
       "      <td>189522705.0</td>\n",
       "      <td>150033482.0</td>\n",
       "      <td>008-1</td>\n",
       "      <td>NaN</td>\n",
       "    </tr>\n",
       "    <tr>\n",
       "      <th>1</th>\n",
       "      <td>1</td>\n",
       "      <td>3</td>\n",
       "      <td>242-12</td>\n",
       "      <td>NaN</td>\n",
       "      <td>Антигололед - 32 PROSEPTготовый состав / 12 кг</td>\n",
       "      <td>460.16</td>\n",
       "      <td>1075.0</td>\n",
       "      <td>NaN</td>\n",
       "      <td>NaN</td>\n",
       "      <td>Антигололед - 32 PROSEPTготовый состав / 12 кг</td>\n",
       "      <td>NaN</td>\n",
       "      <td>NaN</td>\n",
       "      <td>NaN</td>\n",
       "      <td>NaN</td>\n",
       "      <td>NaN</td>\n",
       "    </tr>\n",
       "    <tr>\n",
       "      <th>2</th>\n",
       "      <td>2</td>\n",
       "      <td>443</td>\n",
       "      <td>0024-06 с</td>\n",
       "      <td>4680008145208.0</td>\n",
       "      <td>Герметик акриловый цвет сосна, ф/п 600мл</td>\n",
       "      <td>307.0</td>\n",
       "      <td>644.0</td>\n",
       "      <td>25.0</td>\n",
       "      <td>Герметик акриловый для швов для деревянных дом...</td>\n",
       "      <td>Герметик акриловый цвет сосна, ф/п 600мл</td>\n",
       "      <td>Герметик акриловый для швов для деревянных дом...</td>\n",
       "      <td>189522735.0</td>\n",
       "      <td>150126217.0</td>\n",
       "      <td>0024-06-с</td>\n",
       "      <td>NaN</td>\n",
       "    </tr>\n",
       "    <tr>\n",
       "      <th>3</th>\n",
       "      <td>3</td>\n",
       "      <td>147</td>\n",
       "      <td>305-2</td>\n",
       "      <td>4610093420164.0</td>\n",
       "      <td>Кондиционер для белья с ароматом  королевского...</td>\n",
       "      <td>157.73</td>\n",
       "      <td>342.0</td>\n",
       "      <td>29.0</td>\n",
       "      <td>Кондиционер для белья \"Королевский Ирис\" Prose...</td>\n",
       "      <td>Кондиционер для белья \"Королевский Ирис\" Prose...</td>\n",
       "      <td>Кондиционер для белья \"Королевский Ирис\" Prose...</td>\n",
       "      <td>339377922.0</td>\n",
       "      <td>150032962.0</td>\n",
       "      <td>305-2</td>\n",
       "      <td>NaN</td>\n",
       "    </tr>\n",
       "    <tr>\n",
       "      <th>4</th>\n",
       "      <td>4</td>\n",
       "      <td>502</td>\n",
       "      <td>0024-7 б</td>\n",
       "      <td>NaN</td>\n",
       "      <td>Герметик акриловой  цвет Белый, 7 кг</td>\n",
       "      <td>NaN</td>\n",
       "      <td>NaN</td>\n",
       "      <td>NaN</td>\n",
       "      <td>NaN</td>\n",
       "      <td>NaN</td>\n",
       "      <td>NaN</td>\n",
       "      <td>189522867.0</td>\n",
       "      <td>150126216.0</td>\n",
       "      <td>0024-7-б</td>\n",
       "      <td>NaN</td>\n",
       "    </tr>\n",
       "  </tbody>\n",
       "</table>\n",
       "</div>"
      ],
      "text/plain": [
       "   Unnamed: 0   id    article           ean_13  \\\n",
       "0           0  245      008-1  4680008140234.0   \n",
       "1           1    3     242-12              NaN   \n",
       "2           2  443  0024-06 с  4680008145208.0   \n",
       "3           3  147      305-2  4610093420164.0   \n",
       "4           4  502   0024-7 б              NaN   \n",
       "\n",
       "                                                name    cost  \\\n",
       "0  Антисептик невымываемыйPROSEPT ULTRAконцентрат...   360.0   \n",
       "1     Антигололед - 32 PROSEPTготовый состав / 12 кг  460.16   \n",
       "2           Герметик акриловый цвет сосна, ф/п 600мл   307.0   \n",
       "3  Кондиционер для белья с ароматом  королевского...  157.73   \n",
       "4               Герметик акриловой  цвет Белый, 7 кг     NaN   \n",
       "\n",
       "  recommended_price category_id  \\\n",
       "0             858.0        20.0   \n",
       "1            1075.0         NaN   \n",
       "2             644.0        25.0   \n",
       "3             342.0        29.0   \n",
       "4               NaN         NaN   \n",
       "\n",
       "                                           ozon_name  \\\n",
       "0  Антисептик невымываемый для ответственных конс...   \n",
       "1                                                NaN   \n",
       "2  Герметик акриловый для швов для деревянных дом...   \n",
       "3  Кондиционер для белья \"Королевский Ирис\" Prose...   \n",
       "4                                                NaN   \n",
       "\n",
       "                                             name_1c  \\\n",
       "0  Антисептик невымываемый для ответственных конс...   \n",
       "1     Антигололед - 32 PROSEPTготовый состав / 12 кг   \n",
       "2           Герметик акриловый цвет сосна, ф/п 600мл   \n",
       "3  Кондиционер для белья \"Королевский Ирис\" Prose...   \n",
       "4                                                NaN   \n",
       "\n",
       "                                             wb_name ozon_article  \\\n",
       "0  Антисептик невымываемый для ответственных конс...  189522705.0   \n",
       "1                                                NaN          NaN   \n",
       "2  Герметик акриловый для швов для деревянных дом...  189522735.0   \n",
       "3  Кондиционер для белья \"Королевский Ирис\" Prose...  339377922.0   \n",
       "4                                                NaN  189522867.0   \n",
       "\n",
       "    wb_article ym_article wb_article_td  \n",
       "0  150033482.0      008-1           NaN  \n",
       "1          NaN        NaN           NaN  \n",
       "2  150126217.0  0024-06-с           NaN  \n",
       "3  150032962.0      305-2           NaN  \n",
       "4  150126216.0   0024-7-б           NaN  "
      ]
     },
     "metadata": {},
     "output_type": "display_data"
    },
    {
     "name": "stdout",
     "output_type": "stream",
     "text": [
      "\n",
      "Общая информация о данных Product:\n",
      "<class 'pandas.core.frame.DataFrame'>\n",
      "RangeIndex: 496 entries, 0 to 495\n",
      "Data columns (total 15 columns):\n",
      " #   Column             Non-Null Count  Dtype \n",
      "---  ------             --------------  ----- \n",
      " 0   Unnamed: 0         496 non-null    int64 \n",
      " 1   id                 496 non-null    int64 \n",
      " 2   article            496 non-null    object\n",
      " 3   ean_13             464 non-null    object\n",
      " 4   name               494 non-null    object\n",
      " 5   cost               491 non-null    object\n",
      " 6   recommended_price  491 non-null    object\n",
      " 7   category_id        447 non-null    object\n",
      " 8   ozon_name          458 non-null    object\n",
      " 9   name_1c            485 non-null    object\n",
      " 10  wb_name            455 non-null    object\n",
      " 11  ozon_article       365 non-null    object\n",
      " 12  wb_article         340 non-null    object\n",
      " 13  ym_article         337 non-null    object\n",
      " 14  wb_article_td      32 non-null     object\n",
      "dtypes: int64(2), object(13)\n",
      "memory usage: 58.2+ KB\n",
      "\n",
      "Пропущенные значения Product:\n"
     ]
    },
    {
     "data": {
      "text/plain": [
       "Unnamed: 0             0\n",
       "id                     0\n",
       "article                0\n",
       "ean_13                32\n",
       "name                   2\n",
       "cost                   5\n",
       "recommended_price      5\n",
       "category_id           49\n",
       "ozon_name             38\n",
       "name_1c               11\n",
       "wb_name               41\n",
       "ozon_article         131\n",
       "wb_article           156\n",
       "ym_article           159\n",
       "wb_article_td        464\n",
       "dtype: int64"
      ]
     },
     "metadata": {},
     "output_type": "display_data"
    },
    {
     "name": "stdout",
     "output_type": "stream",
     "text": [
      "\n",
      "Дубликатов в данных Product не обнаружено.\n",
      "\n",
      "Уникальные значения Product:\n"
     ]
    },
    {
     "data": {
      "text/plain": [
       "Unnamed: 0           496\n",
       "id                   496\n",
       "article              496\n",
       "ean_13               464\n",
       "name                 487\n",
       "cost                 338\n",
       "recommended_price    319\n",
       "category_id           38\n",
       "ozon_name            454\n",
       "name_1c              473\n",
       "wb_name              451\n",
       "ozon_article         365\n",
       "wb_article           339\n",
       "ym_article           337\n",
       "wb_article_td         32\n",
       "dtype: int64"
      ]
     },
     "metadata": {},
     "output_type": "display_data"
    }
   ],
   "source": [
    "express_info(df_product, 'Product')"
   ]
  },
  {
   "cell_type": "markdown",
   "id": "f3236322",
   "metadata": {},
   "source": [
    "Посмотрим, есть ли дубликаты отдельно по столбцу 'name'"
   ]
  },
  {
   "cell_type": "code",
   "execution_count": 6,
   "id": "36d687a6",
   "metadata": {
    "scrolled": false
   },
   "outputs": [
    {
     "data": {
      "text/html": [
       "<div>\n",
       "<style scoped>\n",
       "    .dataframe tbody tr th:only-of-type {\n",
       "        vertical-align: middle;\n",
       "    }\n",
       "\n",
       "    .dataframe tbody tr th {\n",
       "        vertical-align: top;\n",
       "    }\n",
       "\n",
       "    .dataframe thead th {\n",
       "        text-align: right;\n",
       "    }\n",
       "</style>\n",
       "<table border=\"1\" class=\"dataframe\">\n",
       "  <thead>\n",
       "    <tr style=\"text-align: right;\">\n",
       "      <th></th>\n",
       "      <th>Unnamed: 0</th>\n",
       "      <th>id</th>\n",
       "      <th>article</th>\n",
       "      <th>ean_13</th>\n",
       "      <th>name</th>\n",
       "      <th>cost</th>\n",
       "      <th>recommended_price</th>\n",
       "      <th>category_id</th>\n",
       "      <th>ozon_name</th>\n",
       "      <th>name_1c</th>\n",
       "      <th>wb_name</th>\n",
       "      <th>ozon_article</th>\n",
       "      <th>wb_article</th>\n",
       "      <th>ym_article</th>\n",
       "      <th>wb_article_td</th>\n",
       "    </tr>\n",
       "  </thead>\n",
       "  <tbody>\n",
       "    <tr>\n",
       "      <th>4</th>\n",
       "      <td>4</td>\n",
       "      <td>502</td>\n",
       "      <td>0024-7 б</td>\n",
       "      <td>NaN</td>\n",
       "      <td>Герметик акриловой  цвет Белый, 7 кг</td>\n",
       "      <td>NaN</td>\n",
       "      <td>NaN</td>\n",
       "      <td>NaN</td>\n",
       "      <td>NaN</td>\n",
       "      <td>NaN</td>\n",
       "      <td>NaN</td>\n",
       "      <td>189522867.0</td>\n",
       "      <td>150126216.0</td>\n",
       "      <td>0024-7-б</td>\n",
       "      <td>NaN</td>\n",
       "    </tr>\n",
       "    <tr>\n",
       "      <th>469</th>\n",
       "      <td>469</td>\n",
       "      <td>363</td>\n",
       "      <td>0024-7б</td>\n",
       "      <td>4680008148872.0</td>\n",
       "      <td>Герметик акриловой  цвет Белый, 7 кг</td>\n",
       "      <td>3149.0</td>\n",
       "      <td>5492.0</td>\n",
       "      <td>25.0</td>\n",
       "      <td>Герметик акриловый для швов для деревянных дом...</td>\n",
       "      <td>Герметик акриловой  цвет Белый, 7 кг</td>\n",
       "      <td>Герметик акриловый для швов для деревянных дом...</td>\n",
       "      <td>NaN</td>\n",
       "      <td>NaN</td>\n",
       "      <td>NaN</td>\n",
       "      <td>NaN</td>\n",
       "    </tr>\n",
       "    <tr>\n",
       "      <th>78</th>\n",
       "      <td>78</td>\n",
       "      <td>362</td>\n",
       "      <td>0024-3б</td>\n",
       "      <td>NaN</td>\n",
       "      <td>Герметик акриловый цвет Белый, 3 кг</td>\n",
       "      <td>1251.0</td>\n",
       "      <td>2145.0</td>\n",
       "      <td>25.0</td>\n",
       "      <td>NaN</td>\n",
       "      <td>Герметик акриловый цвет Белый, 3 кг</td>\n",
       "      <td>NaN</td>\n",
       "      <td>NaN</td>\n",
       "      <td>NaN</td>\n",
       "      <td>NaN</td>\n",
       "      <td>NaN</td>\n",
       "    </tr>\n",
       "    <tr>\n",
       "      <th>234</th>\n",
       "      <td>234</td>\n",
       "      <td>223</td>\n",
       "      <td>0024-3 б</td>\n",
       "      <td>4610093420485.0</td>\n",
       "      <td>Герметик акриловый цвет Белый, 3 кг</td>\n",
       "      <td>1251.0</td>\n",
       "      <td>2145.0</td>\n",
       "      <td>25.0</td>\n",
       "      <td>Герметик акриловый для швов для деревянных дом...</td>\n",
       "      <td>Герметик акриловый цвет Белый, 3 кг</td>\n",
       "      <td>Герметик акриловый для швов для деревянных дом...</td>\n",
       "      <td>453200111.0</td>\n",
       "      <td>150126218.0</td>\n",
       "      <td>0024-3-б</td>\n",
       "      <td>NaN</td>\n",
       "    </tr>\n",
       "    <tr>\n",
       "      <th>94</th>\n",
       "      <td>94</td>\n",
       "      <td>366</td>\n",
       "      <td>0024-3м</td>\n",
       "      <td>NaN</td>\n",
       "      <td>Герметик акриловый цвет Медовый, 3 кг</td>\n",
       "      <td>1251.0</td>\n",
       "      <td>2145.0</td>\n",
       "      <td>25.0</td>\n",
       "      <td>NaN</td>\n",
       "      <td>Герметик акриловый цвет Медовый, 3 кг</td>\n",
       "      <td>NaN</td>\n",
       "      <td>NaN</td>\n",
       "      <td>NaN</td>\n",
       "      <td>NaN</td>\n",
       "      <td>NaN</td>\n",
       "    </tr>\n",
       "    <tr>\n",
       "      <th>230</th>\n",
       "      <td>230</td>\n",
       "      <td>225</td>\n",
       "      <td>0024-3 м</td>\n",
       "      <td>4610093420508.0</td>\n",
       "      <td>Герметик акриловый цвет Медовый, 3 кг</td>\n",
       "      <td>1251.0</td>\n",
       "      <td>2145.0</td>\n",
       "      <td>25.0</td>\n",
       "      <td>Герметик акриловый для швов для деревянных дом...</td>\n",
       "      <td>Герметик акриловый цвет Медовый, 3 кг</td>\n",
       "      <td>Герметик акриловый для швов для деревянных дом...</td>\n",
       "      <td>453214675.0</td>\n",
       "      <td>150126205.0</td>\n",
       "      <td>0024-3-м</td>\n",
       "      <td>NaN</td>\n",
       "    </tr>\n",
       "    <tr>\n",
       "      <th>83</th>\n",
       "      <td>83</td>\n",
       "      <td>374</td>\n",
       "      <td>0024-3о</td>\n",
       "      <td>NaN</td>\n",
       "      <td>Герметик акриловый цвет Орех, 3 кг</td>\n",
       "      <td>1251.0</td>\n",
       "      <td>2145.0</td>\n",
       "      <td>25.0</td>\n",
       "      <td>NaN</td>\n",
       "      <td>Герметик акриловый цвет Орех, 3 кг</td>\n",
       "      <td>NaN</td>\n",
       "      <td>NaN</td>\n",
       "      <td>NaN</td>\n",
       "      <td>NaN</td>\n",
       "      <td>NaN</td>\n",
       "    </tr>\n",
       "    <tr>\n",
       "      <th>224</th>\n",
       "      <td>224</td>\n",
       "      <td>224</td>\n",
       "      <td>0024-3 о</td>\n",
       "      <td>4610093420492.0</td>\n",
       "      <td>Герметик акриловый цвет Орех, 3 кг</td>\n",
       "      <td>1251.0</td>\n",
       "      <td>2145.0</td>\n",
       "      <td>25.0</td>\n",
       "      <td>Герметик акриловый для швов для деревянных дом...</td>\n",
       "      <td>Герметик акриловый цвет Орех, 3 кг</td>\n",
       "      <td>Герметик акриловый для швов для деревянных дом...</td>\n",
       "      <td>453205718.0</td>\n",
       "      <td>150126215.0</td>\n",
       "      <td>0024-3-о</td>\n",
       "      <td>NaN</td>\n",
       "    </tr>\n",
       "    <tr>\n",
       "      <th>84</th>\n",
       "      <td>84</td>\n",
       "      <td>370</td>\n",
       "      <td>0024-3с</td>\n",
       "      <td>NaN</td>\n",
       "      <td>Герметик акриловый цвет Сосна, 3 кг</td>\n",
       "      <td>1251.0</td>\n",
       "      <td>2145.0</td>\n",
       "      <td>25.0</td>\n",
       "      <td>NaN</td>\n",
       "      <td>Герметик акриловый цвет Сосна, 3 кг</td>\n",
       "      <td>NaN</td>\n",
       "      <td>NaN</td>\n",
       "      <td>NaN</td>\n",
       "      <td>NaN</td>\n",
       "      <td>NaN</td>\n",
       "    </tr>\n",
       "    <tr>\n",
       "      <th>225</th>\n",
       "      <td>225</td>\n",
       "      <td>226</td>\n",
       "      <td>0024-3 с</td>\n",
       "      <td>4610093420515.0</td>\n",
       "      <td>Герметик акриловый цвет Сосна, 3 кг</td>\n",
       "      <td>1251.0</td>\n",
       "      <td>2145.0</td>\n",
       "      <td>25.0</td>\n",
       "      <td>Герметик акриловый для швов для деревянных дом...</td>\n",
       "      <td>Герметик акриловый цвет Сосна, 3 кг</td>\n",
       "      <td>Герметик акриловый для швов для деревянных дом...</td>\n",
       "      <td>453215204.0</td>\n",
       "      <td>150126208.0</td>\n",
       "      <td>0024-3-с</td>\n",
       "      <td>NaN</td>\n",
       "    </tr>\n",
       "    <tr>\n",
       "      <th>182</th>\n",
       "      <td>182</td>\n",
       "      <td>227</td>\n",
       "      <td>0024-3т</td>\n",
       "      <td>NaN</td>\n",
       "      <td>Герметик акриловый цвет тик, 3 кг.</td>\n",
       "      <td>1251.0</td>\n",
       "      <td>2145.0</td>\n",
       "      <td>25.0</td>\n",
       "      <td>Герметик акриловый для швов для деревянных дом...</td>\n",
       "      <td>Герметик акриловый цвет тик, 3 кг.</td>\n",
       "      <td>Герметик акриловый для швов для деревянных дом...</td>\n",
       "      <td>NaN</td>\n",
       "      <td>NaN</td>\n",
       "      <td>NaN</td>\n",
       "      <td>NaN</td>\n",
       "    </tr>\n",
       "    <tr>\n",
       "      <th>274</th>\n",
       "      <td>274</td>\n",
       "      <td>463</td>\n",
       "      <td>0024-3 т</td>\n",
       "      <td>4610093420522.0</td>\n",
       "      <td>Герметик акриловый цвет тик, 3 кг.</td>\n",
       "      <td>1251.0</td>\n",
       "      <td>2145.0</td>\n",
       "      <td>25.0</td>\n",
       "      <td>Герметик акриловый для швов для деревянных дом...</td>\n",
       "      <td>Герметик акриловый цвет тик, 3 кг.</td>\n",
       "      <td>Герметик акриловый для швов для деревянных дом...</td>\n",
       "      <td>453216309.0</td>\n",
       "      <td>150126206.0</td>\n",
       "      <td>0024-3-т</td>\n",
       "      <td>NaN</td>\n",
       "    </tr>\n",
       "    <tr>\n",
       "      <th>61</th>\n",
       "      <td>61</td>\n",
       "      <td>222</td>\n",
       "      <td>0024-06т</td>\n",
       "      <td>NaN</td>\n",
       "      <td>Герметик акриловый цвет тик, ф/п 600мл</td>\n",
       "      <td>376.0</td>\n",
       "      <td>643.0</td>\n",
       "      <td>25.0</td>\n",
       "      <td>NaN</td>\n",
       "      <td>Герметик акриловый цвет тик, ф/п 600мл</td>\n",
       "      <td>NaN</td>\n",
       "      <td>NaN</td>\n",
       "      <td>NaN</td>\n",
       "      <td>NaN</td>\n",
       "      <td>NaN</td>\n",
       "    </tr>\n",
       "    <tr>\n",
       "      <th>268</th>\n",
       "      <td>268</td>\n",
       "      <td>440</td>\n",
       "      <td>0024-06 т</td>\n",
       "      <td>4610093420539.0</td>\n",
       "      <td>Герметик акриловый цвет тик, ф/п 600мл</td>\n",
       "      <td>307.0</td>\n",
       "      <td>644.0</td>\n",
       "      <td>25.0</td>\n",
       "      <td>Герметик акриловый для швов для деревянных дом...</td>\n",
       "      <td>Герметик акриловый цвет тик, ф/п 600мл</td>\n",
       "      <td>Герметик акриловый для швов для деревянных дом...</td>\n",
       "      <td>453196408.0</td>\n",
       "      <td>150126203.0</td>\n",
       "      <td>0024-06-т</td>\n",
       "      <td>NaN</td>\n",
       "    </tr>\n",
       "    <tr>\n",
       "      <th>23</th>\n",
       "      <td>23</td>\n",
       "      <td>503</td>\n",
       "      <td>0024-7 о</td>\n",
       "      <td>NaN</td>\n",
       "      <td>NaN</td>\n",
       "      <td>NaN</td>\n",
       "      <td>NaN</td>\n",
       "      <td>NaN</td>\n",
       "      <td>NaN</td>\n",
       "      <td>NaN</td>\n",
       "      <td>NaN</td>\n",
       "      <td>NaN</td>\n",
       "      <td>150126213.0</td>\n",
       "      <td>NaN</td>\n",
       "      <td>NaN</td>\n",
       "    </tr>\n",
       "    <tr>\n",
       "      <th>35</th>\n",
       "      <td>35</td>\n",
       "      <td>504</td>\n",
       "      <td>w022-05</td>\n",
       "      <td>NaN</td>\n",
       "      <td>NaN</td>\n",
       "      <td>NaN</td>\n",
       "      <td>NaN</td>\n",
       "      <td>NaN</td>\n",
       "      <td>NaN</td>\n",
       "      <td>NaN</td>\n",
       "      <td>NaN</td>\n",
       "      <td>NaN</td>\n",
       "      <td>NaN</td>\n",
       "      <td>NaN</td>\n",
       "      <td>NaN</td>\n",
       "    </tr>\n",
       "  </tbody>\n",
       "</table>\n",
       "</div>"
      ],
      "text/plain": [
       "     Unnamed: 0   id    article           ean_13  \\\n",
       "4             4  502   0024-7 б              NaN   \n",
       "469         469  363    0024-7б  4680008148872.0   \n",
       "78           78  362    0024-3б              NaN   \n",
       "234         234  223   0024-3 б  4610093420485.0   \n",
       "94           94  366    0024-3м              NaN   \n",
       "230         230  225   0024-3 м  4610093420508.0   \n",
       "83           83  374    0024-3о              NaN   \n",
       "224         224  224   0024-3 о  4610093420492.0   \n",
       "84           84  370    0024-3с              NaN   \n",
       "225         225  226   0024-3 с  4610093420515.0   \n",
       "182         182  227    0024-3т              NaN   \n",
       "274         274  463   0024-3 т  4610093420522.0   \n",
       "61           61  222   0024-06т              NaN   \n",
       "268         268  440  0024-06 т  4610093420539.0   \n",
       "23           23  503   0024-7 о              NaN   \n",
       "35           35  504    w022-05              NaN   \n",
       "\n",
       "                                       name    cost recommended_price  \\\n",
       "4      Герметик акриловой  цвет Белый, 7 кг     NaN               NaN   \n",
       "469    Герметик акриловой  цвет Белый, 7 кг  3149.0            5492.0   \n",
       "78      Герметик акриловый цвет Белый, 3 кг  1251.0            2145.0   \n",
       "234     Герметик акриловый цвет Белый, 3 кг  1251.0            2145.0   \n",
       "94    Герметик акриловый цвет Медовый, 3 кг  1251.0            2145.0   \n",
       "230   Герметик акриловый цвет Медовый, 3 кг  1251.0            2145.0   \n",
       "83       Герметик акриловый цвет Орех, 3 кг  1251.0            2145.0   \n",
       "224      Герметик акриловый цвет Орех, 3 кг  1251.0            2145.0   \n",
       "84      Герметик акриловый цвет Сосна, 3 кг  1251.0            2145.0   \n",
       "225     Герметик акриловый цвет Сосна, 3 кг  1251.0            2145.0   \n",
       "182      Герметик акриловый цвет тик, 3 кг.  1251.0            2145.0   \n",
       "274      Герметик акриловый цвет тик, 3 кг.  1251.0            2145.0   \n",
       "61   Герметик акриловый цвет тик, ф/п 600мл   376.0             643.0   \n",
       "268  Герметик акриловый цвет тик, ф/п 600мл   307.0             644.0   \n",
       "23                                      NaN     NaN               NaN   \n",
       "35                                      NaN     NaN               NaN   \n",
       "\n",
       "    category_id                                          ozon_name  \\\n",
       "4           NaN                                                NaN   \n",
       "469        25.0  Герметик акриловый для швов для деревянных дом...   \n",
       "78         25.0                                                NaN   \n",
       "234        25.0  Герметик акриловый для швов для деревянных дом...   \n",
       "94         25.0                                                NaN   \n",
       "230        25.0  Герметик акриловый для швов для деревянных дом...   \n",
       "83         25.0                                                NaN   \n",
       "224        25.0  Герметик акриловый для швов для деревянных дом...   \n",
       "84         25.0                                                NaN   \n",
       "225        25.0  Герметик акриловый для швов для деревянных дом...   \n",
       "182        25.0  Герметик акриловый для швов для деревянных дом...   \n",
       "274        25.0  Герметик акриловый для швов для деревянных дом...   \n",
       "61         25.0                                                NaN   \n",
       "268        25.0  Герметик акриловый для швов для деревянных дом...   \n",
       "23          NaN                                                NaN   \n",
       "35          NaN                                                NaN   \n",
       "\n",
       "                                    name_1c  \\\n",
       "4                                       NaN   \n",
       "469    Герметик акриловой  цвет Белый, 7 кг   \n",
       "78      Герметик акриловый цвет Белый, 3 кг   \n",
       "234     Герметик акриловый цвет Белый, 3 кг   \n",
       "94    Герметик акриловый цвет Медовый, 3 кг   \n",
       "230   Герметик акриловый цвет Медовый, 3 кг   \n",
       "83       Герметик акриловый цвет Орех, 3 кг   \n",
       "224      Герметик акриловый цвет Орех, 3 кг   \n",
       "84      Герметик акриловый цвет Сосна, 3 кг   \n",
       "225     Герметик акриловый цвет Сосна, 3 кг   \n",
       "182      Герметик акриловый цвет тик, 3 кг.   \n",
       "274      Герметик акриловый цвет тик, 3 кг.   \n",
       "61   Герметик акриловый цвет тик, ф/п 600мл   \n",
       "268  Герметик акриловый цвет тик, ф/п 600мл   \n",
       "23                                      NaN   \n",
       "35                                      NaN   \n",
       "\n",
       "                                               wb_name ozon_article  \\\n",
       "4                                                  NaN  189522867.0   \n",
       "469  Герметик акриловый для швов для деревянных дом...          NaN   \n",
       "78                                                 NaN          NaN   \n",
       "234  Герметик акриловый для швов для деревянных дом...  453200111.0   \n",
       "94                                                 NaN          NaN   \n",
       "230  Герметик акриловый для швов для деревянных дом...  453214675.0   \n",
       "83                                                 NaN          NaN   \n",
       "224  Герметик акриловый для швов для деревянных дом...  453205718.0   \n",
       "84                                                 NaN          NaN   \n",
       "225  Герметик акриловый для швов для деревянных дом...  453215204.0   \n",
       "182  Герметик акриловый для швов для деревянных дом...          NaN   \n",
       "274  Герметик акриловый для швов для деревянных дом...  453216309.0   \n",
       "61                                                 NaN          NaN   \n",
       "268  Герметик акриловый для швов для деревянных дом...  453196408.0   \n",
       "23                                                 NaN          NaN   \n",
       "35                                                 NaN          NaN   \n",
       "\n",
       "      wb_article ym_article wb_article_td  \n",
       "4    150126216.0   0024-7-б           NaN  \n",
       "469          NaN        NaN           NaN  \n",
       "78           NaN        NaN           NaN  \n",
       "234  150126218.0   0024-3-б           NaN  \n",
       "94           NaN        NaN           NaN  \n",
       "230  150126205.0   0024-3-м           NaN  \n",
       "83           NaN        NaN           NaN  \n",
       "224  150126215.0   0024-3-о           NaN  \n",
       "84           NaN        NaN           NaN  \n",
       "225  150126208.0   0024-3-с           NaN  \n",
       "182          NaN        NaN           NaN  \n",
       "274  150126206.0   0024-3-т           NaN  \n",
       "61           NaN        NaN           NaN  \n",
       "268  150126203.0  0024-06-т           NaN  \n",
       "23   150126213.0        NaN           NaN  \n",
       "35           NaN        NaN           NaN  "
      ]
     },
     "execution_count": 6,
     "metadata": {},
     "output_type": "execute_result"
    }
   ],
   "source": [
    "df_product[df_product.duplicated('name', keep=False)].sort_values(by='name')"
   ]
  },
  {
   "cell_type": "markdown",
   "id": "536c2dc3",
   "metadata": {},
   "source": [
    "#### Информация о датафрейме df_dealer - список дилеров."
   ]
  },
  {
   "cell_type": "code",
   "execution_count": 7,
   "id": "88e00869",
   "metadata": {
    "scrolled": false
   },
   "outputs": [
    {
     "name": "stdout",
     "output_type": "stream",
     "text": [
      "Первые строки данных Dealer:\n"
     ]
    },
    {
     "data": {
      "text/html": [
       "<div>\n",
       "<style scoped>\n",
       "    .dataframe tbody tr th:only-of-type {\n",
       "        vertical-align: middle;\n",
       "    }\n",
       "\n",
       "    .dataframe tbody tr th {\n",
       "        vertical-align: top;\n",
       "    }\n",
       "\n",
       "    .dataframe thead th {\n",
       "        text-align: right;\n",
       "    }\n",
       "</style>\n",
       "<table border=\"1\" class=\"dataframe\">\n",
       "  <thead>\n",
       "    <tr style=\"text-align: right;\">\n",
       "      <th></th>\n",
       "      <th>id</th>\n",
       "      <th>name</th>\n",
       "    </tr>\n",
       "  </thead>\n",
       "  <tbody>\n",
       "    <tr>\n",
       "      <th>0</th>\n",
       "      <td>1</td>\n",
       "      <td>Moi_vibor_WB</td>\n",
       "    </tr>\n",
       "    <tr>\n",
       "      <th>1</th>\n",
       "      <td>2</td>\n",
       "      <td>Akson</td>\n",
       "    </tr>\n",
       "    <tr>\n",
       "      <th>2</th>\n",
       "      <td>3</td>\n",
       "      <td>Bafus</td>\n",
       "    </tr>\n",
       "    <tr>\n",
       "      <th>3</th>\n",
       "      <td>5</td>\n",
       "      <td>Castorama</td>\n",
       "    </tr>\n",
       "    <tr>\n",
       "      <th>4</th>\n",
       "      <td>6</td>\n",
       "      <td>Cubatora</td>\n",
       "    </tr>\n",
       "  </tbody>\n",
       "</table>\n",
       "</div>"
      ],
      "text/plain": [
       "   id          name\n",
       "0   1  Moi_vibor_WB\n",
       "1   2         Akson\n",
       "2   3         Bafus\n",
       "3   5     Castorama\n",
       "4   6      Cubatora"
      ]
     },
     "metadata": {},
     "output_type": "display_data"
    },
    {
     "name": "stdout",
     "output_type": "stream",
     "text": [
      "\n",
      "Общая информация о данных Dealer:\n",
      "<class 'pandas.core.frame.DataFrame'>\n",
      "RangeIndex: 18 entries, 0 to 17\n",
      "Data columns (total 2 columns):\n",
      " #   Column  Non-Null Count  Dtype \n",
      "---  ------  --------------  ----- \n",
      " 0   id      18 non-null     int64 \n",
      " 1   name    18 non-null     object\n",
      "dtypes: int64(1), object(1)\n",
      "memory usage: 416.0+ bytes\n",
      "\n",
      "Пропущенные значения Dealer:\n"
     ]
    },
    {
     "data": {
      "text/plain": [
       "id      0\n",
       "name    0\n",
       "dtype: int64"
      ]
     },
     "metadata": {},
     "output_type": "display_data"
    },
    {
     "name": "stdout",
     "output_type": "stream",
     "text": [
      "\n",
      "Дубликатов в данных Dealer не обнаружено.\n",
      "\n",
      "Уникальные значения Dealer:\n"
     ]
    },
    {
     "data": {
      "text/plain": [
       "id      18\n",
       "name    18\n",
       "dtype: int64"
      ]
     },
     "metadata": {},
     "output_type": "display_data"
    }
   ],
   "source": [
    "express_info(df_dealer, 'Dealer')"
   ]
  },
  {
   "cell_type": "code",
   "execution_count": 8,
   "id": "0a5b37e7",
   "metadata": {
    "scrolled": false
   },
   "outputs": [
    {
     "data": {
      "text/html": [
       "<div>\n",
       "<style scoped>\n",
       "    .dataframe tbody tr th:only-of-type {\n",
       "        vertical-align: middle;\n",
       "    }\n",
       "\n",
       "    .dataframe tbody tr th {\n",
       "        vertical-align: top;\n",
       "    }\n",
       "\n",
       "    .dataframe thead th {\n",
       "        text-align: right;\n",
       "    }\n",
       "</style>\n",
       "<table border=\"1\" class=\"dataframe\">\n",
       "  <thead>\n",
       "    <tr style=\"text-align: right;\">\n",
       "      <th></th>\n",
       "      <th>id</th>\n",
       "      <th>name</th>\n",
       "    </tr>\n",
       "  </thead>\n",
       "  <tbody>\n",
       "    <tr>\n",
       "      <th>0</th>\n",
       "      <td>1</td>\n",
       "      <td>Moi_vibor_WB</td>\n",
       "    </tr>\n",
       "    <tr>\n",
       "      <th>1</th>\n",
       "      <td>2</td>\n",
       "      <td>Akson</td>\n",
       "    </tr>\n",
       "    <tr>\n",
       "      <th>2</th>\n",
       "      <td>3</td>\n",
       "      <td>Bafus</td>\n",
       "    </tr>\n",
       "    <tr>\n",
       "      <th>3</th>\n",
       "      <td>5</td>\n",
       "      <td>Castorama</td>\n",
       "    </tr>\n",
       "    <tr>\n",
       "      <th>4</th>\n",
       "      <td>6</td>\n",
       "      <td>Cubatora</td>\n",
       "    </tr>\n",
       "    <tr>\n",
       "      <th>5</th>\n",
       "      <td>7</td>\n",
       "      <td>Komus</td>\n",
       "    </tr>\n",
       "    <tr>\n",
       "      <th>6</th>\n",
       "      <td>9</td>\n",
       "      <td>Megastroy</td>\n",
       "    </tr>\n",
       "    <tr>\n",
       "      <th>7</th>\n",
       "      <td>10</td>\n",
       "      <td>OnlineTrade</td>\n",
       "    </tr>\n",
       "    <tr>\n",
       "      <th>8</th>\n",
       "      <td>11</td>\n",
       "      <td>Petrovich</td>\n",
       "    </tr>\n",
       "    <tr>\n",
       "      <th>9</th>\n",
       "      <td>12</td>\n",
       "      <td>sdvor</td>\n",
       "    </tr>\n",
       "    <tr>\n",
       "      <th>10</th>\n",
       "      <td>13</td>\n",
       "      <td>simaLand</td>\n",
       "    </tr>\n",
       "    <tr>\n",
       "      <th>11</th>\n",
       "      <td>14</td>\n",
       "      <td>VegosM</td>\n",
       "    </tr>\n",
       "    <tr>\n",
       "      <th>12</th>\n",
       "      <td>15</td>\n",
       "      <td>Vse_instrumeni</td>\n",
       "    </tr>\n",
       "    <tr>\n",
       "      <th>13</th>\n",
       "      <td>16</td>\n",
       "      <td>Vimos</td>\n",
       "    </tr>\n",
       "    <tr>\n",
       "      <th>14</th>\n",
       "      <td>4</td>\n",
       "      <td>Baucenter</td>\n",
       "    </tr>\n",
       "    <tr>\n",
       "      <th>15</th>\n",
       "      <td>8</td>\n",
       "      <td>Leroy_Merlin</td>\n",
       "    </tr>\n",
       "    <tr>\n",
       "      <th>16</th>\n",
       "      <td>18</td>\n",
       "      <td>Мasterstroy_spb_OZON\\r\\n</td>\n",
       "    </tr>\n",
       "    <tr>\n",
       "      <th>17</th>\n",
       "      <td>17</td>\n",
       "      <td>Unicleaner_OZON</td>\n",
       "    </tr>\n",
       "  </tbody>\n",
       "</table>\n",
       "</div>"
      ],
      "text/plain": [
       "    id                      name\n",
       "0    1              Moi_vibor_WB\n",
       "1    2                     Akson\n",
       "2    3                     Bafus\n",
       "3    5                 Castorama\n",
       "4    6                  Cubatora\n",
       "5    7                     Komus\n",
       "6    9                 Megastroy\n",
       "7   10               OnlineTrade\n",
       "8   11                 Petrovich\n",
       "9   12                     sdvor\n",
       "10  13                  simaLand\n",
       "11  14                    VegosM\n",
       "12  15            Vse_instrumeni\n",
       "13  16                     Vimos\n",
       "14   4                 Baucenter\n",
       "15   8              Leroy_Merlin\n",
       "16  18  Мasterstroy_spb_OZON\\r\\n\n",
       "17  17           Unicleaner_OZON"
      ]
     },
     "execution_count": 8,
     "metadata": {},
     "output_type": "execute_result"
    }
   ],
   "source": [
    "df_dealer"
   ]
  },
  {
   "cell_type": "markdown",
   "id": "b6121a1a",
   "metadata": {},
   "source": [
    "#### Информация о датафрейме df_dealerprice - результат работы парсера площадок дилеров."
   ]
  },
  {
   "cell_type": "code",
   "execution_count": 9,
   "id": "ce58384f",
   "metadata": {
    "scrolled": false
   },
   "outputs": [
    {
     "name": "stdout",
     "output_type": "stream",
     "text": [
      "Первые строки данных Dealerprice:\n"
     ]
    },
    {
     "data": {
      "text/html": [
       "<div>\n",
       "<style scoped>\n",
       "    .dataframe tbody tr th:only-of-type {\n",
       "        vertical-align: middle;\n",
       "    }\n",
       "\n",
       "    .dataframe tbody tr th {\n",
       "        vertical-align: top;\n",
       "    }\n",
       "\n",
       "    .dataframe thead th {\n",
       "        text-align: right;\n",
       "    }\n",
       "</style>\n",
       "<table border=\"1\" class=\"dataframe\">\n",
       "  <thead>\n",
       "    <tr style=\"text-align: right;\">\n",
       "      <th></th>\n",
       "      <th>id</th>\n",
       "      <th>product_key</th>\n",
       "      <th>price</th>\n",
       "      <th>product_url</th>\n",
       "      <th>product_name</th>\n",
       "      <th>date</th>\n",
       "      <th>dealer_id</th>\n",
       "    </tr>\n",
       "  </thead>\n",
       "  <tbody>\n",
       "    <tr>\n",
       "      <th>0</th>\n",
       "      <td>2</td>\n",
       "      <td>546227</td>\n",
       "      <td>233.00</td>\n",
       "      <td>https://akson.ru//p/sredstvo_universalnoe_pros...</td>\n",
       "      <td>Средство универсальное Prosept Universal Spray...</td>\n",
       "      <td>2023-07-11</td>\n",
       "      <td>2</td>\n",
       "    </tr>\n",
       "    <tr>\n",
       "      <th>1</th>\n",
       "      <td>3</td>\n",
       "      <td>546408</td>\n",
       "      <td>175.00</td>\n",
       "      <td>https://akson.ru//p/kontsentrat_prosept_multip...</td>\n",
       "      <td>Концентрат Prosept Multipower для мытья полов,...</td>\n",
       "      <td>2023-07-11</td>\n",
       "      <td>2</td>\n",
       "    </tr>\n",
       "    <tr>\n",
       "      <th>2</th>\n",
       "      <td>4</td>\n",
       "      <td>546234</td>\n",
       "      <td>285.00</td>\n",
       "      <td>https://akson.ru//p/sredstvo_dlya_chistki_lyus...</td>\n",
       "      <td>Средство для чистки люстр Prosept Universal An...</td>\n",
       "      <td>2023-07-11</td>\n",
       "      <td>2</td>\n",
       "    </tr>\n",
       "    <tr>\n",
       "      <th>3</th>\n",
       "      <td>5</td>\n",
       "      <td>651258</td>\n",
       "      <td>362.00</td>\n",
       "      <td>https://akson.ru//p/udalitel_rzhavchiny_prosep...</td>\n",
       "      <td>Удалитель ржавчины PROSEPT RUST REMOVER 0,5л 0...</td>\n",
       "      <td>2023-07-11</td>\n",
       "      <td>2</td>\n",
       "    </tr>\n",
       "    <tr>\n",
       "      <th>4</th>\n",
       "      <td>6</td>\n",
       "      <td>546355</td>\n",
       "      <td>205.00</td>\n",
       "      <td>https://akson.ru//p/sredstvo_moyushchee_dlya_b...</td>\n",
       "      <td>Средство моющее для бани и сауны Prosept Multi...</td>\n",
       "      <td>2023-07-11</td>\n",
       "      <td>2</td>\n",
       "    </tr>\n",
       "  </tbody>\n",
       "</table>\n",
       "</div>"
      ],
      "text/plain": [
       "   id product_key   price                                        product_url  \\\n",
       "0   2      546227  233.00  https://akson.ru//p/sredstvo_universalnoe_pros...   \n",
       "1   3      546408  175.00  https://akson.ru//p/kontsentrat_prosept_multip...   \n",
       "2   4      546234  285.00  https://akson.ru//p/sredstvo_dlya_chistki_lyus...   \n",
       "3   5      651258  362.00  https://akson.ru//p/udalitel_rzhavchiny_prosep...   \n",
       "4   6      546355  205.00  https://akson.ru//p/sredstvo_moyushchee_dlya_b...   \n",
       "\n",
       "                                        product_name        date  dealer_id  \n",
       "0  Средство универсальное Prosept Universal Spray...  2023-07-11          2  \n",
       "1  Концентрат Prosept Multipower для мытья полов,...  2023-07-11          2  \n",
       "2  Средство для чистки люстр Prosept Universal An...  2023-07-11          2  \n",
       "3  Удалитель ржавчины PROSEPT RUST REMOVER 0,5л 0...  2023-07-11          2  \n",
       "4  Средство моющее для бани и сауны Prosept Multi...  2023-07-11          2  "
      ]
     },
     "metadata": {},
     "output_type": "display_data"
    },
    {
     "name": "stdout",
     "output_type": "stream",
     "text": [
      "\n",
      "Общая информация о данных Dealerprice:\n",
      "<class 'pandas.core.frame.DataFrame'>\n",
      "RangeIndex: 20416 entries, 0 to 20415\n",
      "Data columns (total 7 columns):\n",
      " #   Column        Non-Null Count  Dtype \n",
      "---  ------        --------------  ----- \n",
      " 0   id            20416 non-null  int64 \n",
      " 1   product_key   20416 non-null  object\n",
      " 2   price         20416 non-null  object\n",
      " 3   product_url   20182 non-null  object\n",
      " 4   product_name  20416 non-null  object\n",
      " 5   date          20416 non-null  object\n",
      " 6   dealer_id     20416 non-null  int64 \n",
      "dtypes: int64(2), object(5)\n",
      "memory usage: 1.1+ MB\n",
      "\n",
      "Пропущенные значения Dealerprice:\n"
     ]
    },
    {
     "data": {
      "text/plain": [
       "id                0\n",
       "product_key       0\n",
       "price             0\n",
       "product_url     234\n",
       "product_name      0\n",
       "date              0\n",
       "dealer_id         0\n",
       "dtype: int64"
      ]
     },
     "metadata": {},
     "output_type": "display_data"
    },
    {
     "name": "stdout",
     "output_type": "stream",
     "text": [
      "\n",
      "Дубликатов в данных Dealerprice не обнаружено.\n",
      "\n",
      "Уникальные значения Dealerprice:\n"
     ]
    },
    {
     "data": {
      "text/plain": [
       "id              20416\n",
       "product_key      1965\n",
       "price            1286\n",
       "product_url      1883\n",
       "product_name     1953\n",
       "date               14\n",
       "dealer_id          18\n",
       "dtype: int64"
      ]
     },
     "metadata": {},
     "output_type": "display_data"
    }
   ],
   "source": [
    "express_info(df_dealerprice, 'Dealerprice')"
   ]
  },
  {
   "cell_type": "code",
   "execution_count": 10,
   "id": "3948ece5",
   "metadata": {
    "scrolled": false
   },
   "outputs": [
    {
     "data": {
      "text/html": [
       "<div>\n",
       "<style scoped>\n",
       "    .dataframe tbody tr th:only-of-type {\n",
       "        vertical-align: middle;\n",
       "    }\n",
       "\n",
       "    .dataframe tbody tr th {\n",
       "        vertical-align: top;\n",
       "    }\n",
       "\n",
       "    .dataframe thead th {\n",
       "        text-align: right;\n",
       "    }\n",
       "</style>\n",
       "<table border=\"1\" class=\"dataframe\">\n",
       "  <thead>\n",
       "    <tr style=\"text-align: right;\">\n",
       "      <th></th>\n",
       "      <th>id</th>\n",
       "      <th>product_key</th>\n",
       "      <th>price</th>\n",
       "      <th>product_url</th>\n",
       "      <th>product_name</th>\n",
       "      <th>date</th>\n",
       "      <th>dealer_id</th>\n",
       "    </tr>\n",
       "  </thead>\n",
       "  <tbody>\n",
       "    <tr>\n",
       "      <th>20132</th>\n",
       "      <td>20284</td>\n",
       "      <td>382745</td>\n",
       "      <td>1771.00</td>\n",
       "      <td>https://akson.ru//p/ognebiozaschita_prosept_pr...</td>\n",
       "      <td>Огнебиозащита PROSEPT prof 1 группа для наружн...</td>\n",
       "      <td>2023-07-31</td>\n",
       "      <td>2</td>\n",
       "    </tr>\n",
       "    <tr>\n",
       "      <th>15443</th>\n",
       "      <td>15492</td>\n",
       "      <td>382753</td>\n",
       "      <td>683.00</td>\n",
       "      <td>https://akson.ru//p/antiseptik_prosept_univers...</td>\n",
       "      <td>Пропитка-антисептик PROSEPT Universal универса...</td>\n",
       "      <td>2023-07-26</td>\n",
       "      <td>2</td>\n",
       "    </tr>\n",
       "    <tr>\n",
       "      <th>20152</th>\n",
       "      <td>20304</td>\n",
       "      <td>546235</td>\n",
       "      <td>223.00</td>\n",
       "      <td>https://akson.ru//p/sredstvo_kontsentrirovanno...</td>\n",
       "      <td>Средство концентрированное Prosept Bath Fungi ...</td>\n",
       "      <td>2023-07-31</td>\n",
       "      <td>2</td>\n",
       "    </tr>\n",
       "    <tr>\n",
       "      <th>20147</th>\n",
       "      <td>20299</td>\n",
       "      <td>546293</td>\n",
       "      <td>385.00</td>\n",
       "      <td>https://akson.ru//p/sredstvo_dlya_udaleniya_gr...</td>\n",
       "      <td>Средство для удаления граффити, маркера, краск...</td>\n",
       "      <td>2023-07-31</td>\n",
       "      <td>2</td>\n",
       "    </tr>\n",
       "    <tr>\n",
       "      <th>20118</th>\n",
       "      <td>20270</td>\n",
       "      <td>546323</td>\n",
       "      <td>336.00</td>\n",
       "      <td>https://akson.ru//p/udalitel_tsementa_prosept_...</td>\n",
       "      <td>Удалитель цемента Prosept Cement Cleaner, 500м...</td>\n",
       "      <td>2023-07-31</td>\n",
       "      <td>2</td>\n",
       "    </tr>\n",
       "    <tr>\n",
       "      <th>...</th>\n",
       "      <td>...</td>\n",
       "      <td>...</td>\n",
       "      <td>...</td>\n",
       "      <td>...</td>\n",
       "      <td>...</td>\n",
       "      <td>...</td>\n",
       "      <td>...</td>\n",
       "    </tr>\n",
       "    <tr>\n",
       "      <th>20284</th>\n",
       "      <td>20439</td>\n",
       "      <td>900996549</td>\n",
       "      <td>294.00</td>\n",
       "      <td>https://www.ozon.ru/product/900996549</td>\n",
       "      <td>Отбеливатель для древесины PROSEPT ECO 50 гото...</td>\n",
       "      <td>2023-07-31</td>\n",
       "      <td>18</td>\n",
       "    </tr>\n",
       "    <tr>\n",
       "      <th>6240</th>\n",
       "      <td>6332</td>\n",
       "      <td>928819</td>\n",
       "      <td>318.00</td>\n",
       "      <td>https://vegosm.ru/catalog/interer_i_otdelka/la...</td>\n",
       "      <td>PROSEPT FUNGI CLEAN - удалитель плесени с мине...</td>\n",
       "      <td>2023-07-14</td>\n",
       "      <td>14</td>\n",
       "    </tr>\n",
       "    <tr>\n",
       "      <th>19198</th>\n",
       "      <td>19348</td>\n",
       "      <td>https://kub02.ru/catalog/emali/propitka_dlya_k...</td>\n",
       "      <td>406.00</td>\n",
       "      <td>https://kub02.ru/catalog/emali/propitka_dlya_k...</td>\n",
       "      <td>Пропитка для камня гидрофобизирующий состав (1...</td>\n",
       "      <td>2023-07-31</td>\n",
       "      <td>6</td>\n",
       "    </tr>\n",
       "    <tr>\n",
       "      <th>19197</th>\n",
       "      <td>19347</td>\n",
       "      <td>https://kub02.ru/catalog/professionalnaya_byto...</td>\n",
       "      <td>396.00</td>\n",
       "      <td>https://kub02.ru/catalog/professionalnaya_byto...</td>\n",
       "      <td>Удалитель ржавчины PROSEPT RUST REMOVER готовы...</td>\n",
       "      <td>2023-07-31</td>\n",
       "      <td>6</td>\n",
       "    </tr>\n",
       "    <tr>\n",
       "      <th>19196</th>\n",
       "      <td>19346</td>\n",
       "      <td>https://kub02.ru/catalog/prosept/ognebiozashch...</td>\n",
       "      <td>888.00</td>\n",
       "      <td>https://kub02.ru/catalog/prosept/ognebiozashch...</td>\n",
       "      <td>Огнебиозащита для древесины PROSEPT, 2 группа ...</td>\n",
       "      <td>2023-07-31</td>\n",
       "      <td>6</td>\n",
       "    </tr>\n",
       "  </tbody>\n",
       "</table>\n",
       "<p>65 rows × 7 columns</p>\n",
       "</div>"
      ],
      "text/plain": [
       "          id                                        product_key    price  \\\n",
       "20132  20284                                             382745  1771.00   \n",
       "15443  15492                                             382753   683.00   \n",
       "20152  20304                                             546235   223.00   \n",
       "20147  20299                                             546293   385.00   \n",
       "20118  20270                                             546323   336.00   \n",
       "...      ...                                                ...      ...   \n",
       "20284  20439                                          900996549   294.00   \n",
       "6240    6332                                             928819   318.00   \n",
       "19198  19348  https://kub02.ru/catalog/emali/propitka_dlya_k...   406.00   \n",
       "19197  19347  https://kub02.ru/catalog/professionalnaya_byto...   396.00   \n",
       "19196  19346  https://kub02.ru/catalog/prosept/ognebiozashch...   888.00   \n",
       "\n",
       "                                             product_url  \\\n",
       "20132  https://akson.ru//p/ognebiozaschita_prosept_pr...   \n",
       "15443  https://akson.ru//p/antiseptik_prosept_univers...   \n",
       "20152  https://akson.ru//p/sredstvo_kontsentrirovanno...   \n",
       "20147  https://akson.ru//p/sredstvo_dlya_udaleniya_gr...   \n",
       "20118  https://akson.ru//p/udalitel_tsementa_prosept_...   \n",
       "...                                                  ...   \n",
       "20284              https://www.ozon.ru/product/900996549   \n",
       "6240   https://vegosm.ru/catalog/interer_i_otdelka/la...   \n",
       "19198  https://kub02.ru/catalog/emali/propitka_dlya_k...   \n",
       "19197  https://kub02.ru/catalog/professionalnaya_byto...   \n",
       "19196  https://kub02.ru/catalog/prosept/ognebiozashch...   \n",
       "\n",
       "                                            product_name        date  \\\n",
       "20132  Огнебиозащита PROSEPT prof 1 группа для наружн...  2023-07-31   \n",
       "15443  Пропитка-антисептик PROSEPT Universal универса...  2023-07-26   \n",
       "20152  Средство концентрированное Prosept Bath Fungi ...  2023-07-31   \n",
       "20147  Средство для удаления граффити, маркера, краск...  2023-07-31   \n",
       "20118  Удалитель цемента Prosept Cement Cleaner, 500м...  2023-07-31   \n",
       "...                                                  ...         ...   \n",
       "20284  Отбеливатель для древесины PROSEPT ECO 50 гото...  2023-07-31   \n",
       "6240   PROSEPT FUNGI CLEAN - удалитель плесени с мине...  2023-07-14   \n",
       "19198  Пропитка для камня гидрофобизирующий состав (1...  2023-07-31   \n",
       "19197  Удалитель ржавчины PROSEPT RUST REMOVER готовы...  2023-07-31   \n",
       "19196  Огнебиозащита для древесины PROSEPT, 2 группа ...  2023-07-31   \n",
       "\n",
       "       dealer_id  \n",
       "20132          2  \n",
       "15443          2  \n",
       "20152          2  \n",
       "20147          2  \n",
       "20118          2  \n",
       "...          ...  \n",
       "20284         18  \n",
       "6240          14  \n",
       "19198          6  \n",
       "19197          6  \n",
       "19196          6  \n",
       "\n",
       "[65 rows x 7 columns]"
      ]
     },
     "execution_count": 10,
     "metadata": {},
     "output_type": "execute_result"
    }
   ],
   "source": [
    "non_unique_rows = df_dealerprice[~df_dealerprice.duplicated(subset=['product_key','product_name'], keep=False)].sort_values(by='product_key')\n",
    "non_unique_rows"
   ]
  },
  {
   "cell_type": "markdown",
   "id": "16db6762",
   "metadata": {},
   "source": [
    "[Содержание](#Содержание) "
   ]
  },
  {
   "cell_type": "markdown",
   "id": "60c79f5a",
   "metadata": {},
   "source": [
    "#### Информация о датафрейме df_productdealerkey  - таблицы матчинга между базой заказчика и товарами, продаваемыми дилерами"
   ]
  },
  {
   "cell_type": "code",
   "execution_count": 11,
   "id": "e48dc13f",
   "metadata": {},
   "outputs": [
    {
     "name": "stdout",
     "output_type": "stream",
     "text": [
      "Первые строки данных Productdealerkey:\n"
     ]
    },
    {
     "data": {
      "text/html": [
       "<div>\n",
       "<style scoped>\n",
       "    .dataframe tbody tr th:only-of-type {\n",
       "        vertical-align: middle;\n",
       "    }\n",
       "\n",
       "    .dataframe tbody tr th {\n",
       "        vertical-align: top;\n",
       "    }\n",
       "\n",
       "    .dataframe thead th {\n",
       "        text-align: right;\n",
       "    }\n",
       "</style>\n",
       "<table border=\"1\" class=\"dataframe\">\n",
       "  <thead>\n",
       "    <tr style=\"text-align: right;\">\n",
       "      <th></th>\n",
       "      <th>id</th>\n",
       "      <th>key</th>\n",
       "      <th>dealer_id</th>\n",
       "      <th>product_id</th>\n",
       "    </tr>\n",
       "  </thead>\n",
       "  <tbody>\n",
       "    <tr>\n",
       "      <th>0</th>\n",
       "      <td>1</td>\n",
       "      <td>546227</td>\n",
       "      <td>2</td>\n",
       "      <td>12</td>\n",
       "    </tr>\n",
       "    <tr>\n",
       "      <th>1</th>\n",
       "      <td>2</td>\n",
       "      <td>651265</td>\n",
       "      <td>2</td>\n",
       "      <td>106</td>\n",
       "    </tr>\n",
       "    <tr>\n",
       "      <th>2</th>\n",
       "      <td>3</td>\n",
       "      <td>546257</td>\n",
       "      <td>2</td>\n",
       "      <td>200</td>\n",
       "    </tr>\n",
       "    <tr>\n",
       "      <th>3</th>\n",
       "      <td>4</td>\n",
       "      <td>546408</td>\n",
       "      <td>2</td>\n",
       "      <td>38</td>\n",
       "    </tr>\n",
       "    <tr>\n",
       "      <th>4</th>\n",
       "      <td>5</td>\n",
       "      <td>651258</td>\n",
       "      <td>2</td>\n",
       "      <td>403</td>\n",
       "    </tr>\n",
       "  </tbody>\n",
       "</table>\n",
       "</div>"
      ],
      "text/plain": [
       "   id     key  dealer_id  product_id\n",
       "0   1  546227          2          12\n",
       "1   2  651265          2         106\n",
       "2   3  546257          2         200\n",
       "3   4  546408          2          38\n",
       "4   5  651258          2         403"
      ]
     },
     "metadata": {},
     "output_type": "display_data"
    },
    {
     "name": "stdout",
     "output_type": "stream",
     "text": [
      "\n",
      "Общая информация о данных Productdealerkey:\n",
      "<class 'pandas.core.frame.DataFrame'>\n",
      "RangeIndex: 1700 entries, 0 to 1699\n",
      "Data columns (total 4 columns):\n",
      " #   Column      Non-Null Count  Dtype \n",
      "---  ------      --------------  ----- \n",
      " 0   id          1700 non-null   int64 \n",
      " 1   key         1700 non-null   object\n",
      " 2   dealer_id   1700 non-null   int64 \n",
      " 3   product_id  1700 non-null   int64 \n",
      "dtypes: int64(3), object(1)\n",
      "memory usage: 53.2+ KB\n",
      "\n",
      "Пропущенные значения Productdealerkey:\n"
     ]
    },
    {
     "data": {
      "text/plain": [
       "id            0\n",
       "key           0\n",
       "dealer_id     0\n",
       "product_id    0\n",
       "dtype: int64"
      ]
     },
     "metadata": {},
     "output_type": "display_data"
    },
    {
     "name": "stdout",
     "output_type": "stream",
     "text": [
      "\n",
      "Дубликатов в данных Productdealerkey не обнаружено.\n",
      "\n",
      "Уникальные значения Productdealerkey:\n"
     ]
    },
    {
     "data": {
      "text/plain": [
       "id            1700\n",
       "key           1700\n",
       "dealer_id       18\n",
       "product_id     438\n",
       "dtype: int64"
      ]
     },
     "metadata": {},
     "output_type": "display_data"
    }
   ],
   "source": [
    "express_info(df_productdealerkey, 'Productdealerkey')"
   ]
  },
  {
   "cell_type": "code",
   "execution_count": 12,
   "id": "feab8a65",
   "metadata": {},
   "outputs": [
    {
     "name": "stdout",
     "output_type": "stream",
     "text": [
      "Кол-во наименований товаров дилера без наименования из базы заказчика\n"
     ]
    },
    {
     "data": {
      "text/plain": [
       "363"
      ]
     },
     "execution_count": 12,
     "metadata": {},
     "output_type": "execute_result"
    }
   ],
   "source": [
    "print('Кол-во наименований товаров дилера без наименования из базы заказчика')\n",
    "len(set(df_dealerprice.product_key)-set(df_productdealerkey.key))"
   ]
  },
  {
   "cell_type": "markdown",
   "id": "79b75cb9",
   "metadata": {},
   "source": [
    "<a name=\"Выводы_Первичный\"></a>\n",
    "#### 2.1.1. Выводы по первичному анализу данных.\n",
    " \n",
    "**Выводы по датафрейму 'df_product'** \n",
    " - у производителя 487 наименований товаров\n",
    " - Столбцы которые можно использовать как признаки при обучении моделей name, cost, min_recommended_price,recommended_price,     category_id, ozon_name, name_1c, wb_name, содержат пропуски.  \n",
    " - Информация представленная в столбцах name не отформатировнна встречаются объединненые слова.  \n",
    " - В информации в столбцах article встречатся разный формат записи одного артикля(добавляется пробел).  \n",
    " - В столбцах name также присутствуют данные об объеме(весе) продукта, что может быть использовано в качестве признака для модели.\n",
    " - Имеются дубликаты имени товара, при этом все дублированные записи имеют разные id-ключ который используется в таблице матчинга товаров заказчика и дилера.  \n",
    "\n",
    "**Выводы по датафрейму 'df_dealer'** \n",
    " - есть 18 дилеров, продающих товары заказчика\n",
    " - аномалий не обнаружено. Только запись spb_Ozon содержит непечатыемые символы, возможно произошла ошибка при выгрузке.\n",
    "\n",
    "**Выводы по датафрейму 'df_dealerprice'**\n",
    "- Имеется 1953 уникальных наименования среди товаров заказчика у дилеров, причем одному названию могут соответсвовать разные id\n",
    "- Столбцы которые можно использовать как признаки при обучении моделей price, priduct_name,dealer_id.\n",
    "- Имеется большое количество дубликатов по столбцу product_key, product_name.\n",
    "\n",
    "**Выводы по датафрейму 'df_productdealerkey'**\n",
    "- не для всех товаров, продаваемых дилерами у нас имеются данные из базы заказчика (для 363 наименований отсутсвуют данные об истинном названии)\n",
    "\n",
    "\n",
    "***Задачи на обработку данных:***  \n",
    "- ***для df_product*** удалим из df_name строки в которых отсутствует значение в столбце 'name'. Так же требуется написать функцию по обработке тектса столбцов 'name' (разделение слов, привод к одному размеру, удаление пунктуации, выделение веса(объема) товаров)    \n",
    "- ***для df_dealer*** обработки не требуется.\n",
    "- ***для df_dealerprice*** удалить дубликаты по столбцу product_key."
   ]
  },
  {
   "cell_type": "markdown",
   "id": "0b64326b",
   "metadata": {},
   "source": [
    "[Содержание](#Содержание) "
   ]
  },
  {
   "cell_type": "markdown",
   "id": "a688172f",
   "metadata": {},
   "source": [
    "<a name=\"Обработка_данных\"></a>\n",
    "### 2.2. Обработка данных."
   ]
  },
  {
   "cell_type": "code",
   "execution_count": 13,
   "id": "5a2f5685",
   "metadata": {},
   "outputs": [],
   "source": [
    "# drop rows without names\n",
    "product = df_product.dropna(subset=['name']).reset_index(drop=True)"
   ]
  },
  {
   "cell_type": "markdown",
   "id": "55700033",
   "metadata": {},
   "source": [
    "[Содержание](#Содержание) "
   ]
  },
  {
   "cell_type": "markdown",
   "id": "86975845",
   "metadata": {},
   "source": [
    "<a name=\"Исследование_моделей\"></a>\n",
    "## 3.Исследование моделей."
   ]
  },
  {
   "cell_type": "code",
   "execution_count": 14,
   "id": "35fbd025",
   "metadata": {},
   "outputs": [],
   "source": [
    "# Количество ближайших названий\n",
    "N_COUNT = 20"
   ]
  },
  {
   "cell_type": "markdown",
   "id": "a4fef945",
   "metadata": {},
   "source": [
    "Для векторизации текстов проверим модели:\n",
    "- TfidfVectorizer с разными параметрами и после разной очистки текста\n",
    "- предобученную модель LaBSE"
   ]
  },
  {
   "cell_type": "markdown",
   "id": "db378047",
   "metadata": {},
   "source": [
    "Модель будет возвращать нам список с предложенными вариантами. В качестве **метрик** будем использовать:\n",
    "- *Accuracy@1* - число правильных ответов из первого предложенного\n",
    "- *Accuracy@5* - число правильных ответов из пяти предложенных\n",
    "- *MRR(Mean Reciprocal Rank)* - метрика оценивающая расположение правильного ответа относительно первой позиции"
   ]
  },
  {
   "cell_type": "markdown",
   "id": "77168a2c",
   "metadata": {},
   "source": [
    "### TfidfVectorizer"
   ]
  },
  {
   "cell_type": "markdown",
   "id": "342a0856",
   "metadata": {},
   "source": [
    "Создадим функции для обработки текста, векторизации и рассчета расстояний."
   ]
  },
  {
   "cell_type": "code",
   "execution_count": 15,
   "id": "9a180f60",
   "metadata": {
    "scrolled": true
   },
   "outputs": [],
   "source": [
    "def str_edit_1(res):\n",
    "    '''Функция принимает на вход строку,\n",
    "    разделяет пробелами слова и слова и цифры,\n",
    "    возвращает строку в нижнем регистре с пробелами.\n",
    "    Ex. ЧистящееСредство500мл -> чистящее средство 500 мл\n",
    "    '''\n",
    "    if not pd.isna(res):\n",
    "        res = ' '.join(re.split(r\"([A-Za-z][A-Za-z]*)\",res))\n",
    "        res = ' '.join(re.split(r\"([А-ЯЁ][а-я]*)\",res))\n",
    "        res = ' '.join(re.split(r\"([0-9][0-9]*)\",res))\n",
    "        res = ' '.join(res.split()).lower()\n",
    "    else:\n",
    "        res = ''\n",
    "        \n",
    "    return res"
   ]
  },
  {
   "cell_type": "code",
   "execution_count": 16,
   "id": "c63ba20b",
   "metadata": {},
   "outputs": [],
   "source": [
    "def str_edit_2(res):\n",
    "    '''Функция принимает на вход строку,\n",
    "    удаляет все знаки пунктуации и слово Prosept,\n",
    "    возвращает строку в нижнем регистре.\n",
    "    '''\n",
    "    if not pd.isna(res):               \n",
    "        # Lower Casing\n",
    "        res = res.lower()             \n",
    "        # Removing all punctuation\n",
    "        res = re.sub(r\"[^а-яa-z\\d]+\", ' ', res)        \n",
    "        # remove PROSEPT\n",
    "        res = re.sub(r\"prosept\", ' ', res)                       \n",
    "    else:\n",
    "        res = ''\n",
    "        \n",
    "    return res"
   ]
  },
  {
   "cell_type": "code",
   "execution_count": 17,
   "id": "7af76d47",
   "metadata": {},
   "outputs": [],
   "source": [
    "def t_fit(df,df_columns=['name'],analyzer='word',ngram_range=(1,1), str_edit=str_edit_1):\n",
    "    '''Функция форматирует названия и\n",
    "    векторизует их.\n",
    "    Возвращает \"обученный\" векторизатор и векторы названий.\n",
    "    '''\n",
    "    vectorizer = TfidfVectorizer(analyzer=analyzer, ngram_range=ngram_range)        \n",
    "    \n",
    "    df_tmp = df[df_columns[0]].apply(str_edit)\n",
    "    if len(df_columns)>1:\n",
    "        for i in range(1,len(df_columns)):\n",
    "            df_tmp = df_tmp + ' ' + df[df_columns[i]].apply(str_edit)\n",
    "                       \n",
    "    matrix = vectorizer.fit_transform(df_tmp)\n",
    "    model = [vectorizer,matrix]\n",
    "    return model"
   ]
  },
  {
   "cell_type": "code",
   "execution_count": 18,
   "id": "6fc5d0b8",
   "metadata": {},
   "outputs": [],
   "source": [
    "def t_predict(txt,model,matrix,count_predict=N_COUNT,metrics = 'cosine_similarity', str_edit=str_edit_1):\n",
    "    '''Функция форматирует названия дилеров, векторизует их,\n",
    "    Вычисляет расстояния между векторами названий дилера\n",
    "    и заказчика.\n",
    "    Возвращает N_COUNT ближайших расстояний между векторами.\n",
    "    '''\n",
    "    dict_metric = {'cosine_similarity':cosine_similarity}\n",
    "    \n",
    "    res = dict_metric[metrics](model.transform([str_edit(txt)]),matrix)[0].argsort()[-count_predict:][::-1]\n",
    "    return res"
   ]
  },
  {
   "cell_type": "markdown",
   "id": "7e54ed8d",
   "metadata": {},
   "source": [
    "[Содержание](#Содержание) "
   ]
  },
  {
   "cell_type": "markdown",
   "id": "204c3608",
   "metadata": {},
   "source": [
    "<a name=\"Выбор_лучшей_модели\"></a>\n",
    "#### Тестирование модели\n"
   ]
  },
  {
   "cell_type": "code",
   "execution_count": 19,
   "id": "10836ff0",
   "metadata": {},
   "outputs": [],
   "source": [
    "#Создаем тестовый датафрейм для проверки результатов\n",
    "df_test = df_productdealerkey.copy()\n",
    "df_test_dealerprice = df_dealerprice[['product_key','dealer_id','product_name']].copy()\n",
    "df_test_dealerprice.columns = ['key','dealer_id','product_name']\n",
    "df_test = df_test.merge(df_test_dealerprice,how='left',on=['key','dealer_id']).drop_duplicates().dropna()\n",
    "df_test = df_test.merge(product.reset_index()[['index','id','name']],how='left',left_on=['product_id'],right_on=['id'])"
   ]
  },
  {
   "cell_type": "code",
   "execution_count": 20,
   "id": "ef3c1fdd",
   "metadata": {
    "scrolled": true
   },
   "outputs": [
    {
     "name": "stdout",
     "output_type": "stream",
     "text": [
      "<class 'pandas.core.frame.DataFrame'>\n",
      "Int64Index: 1691 entries, 0 to 1690\n",
      "Data columns (total 8 columns):\n",
      " #   Column        Non-Null Count  Dtype \n",
      "---  ------        --------------  ----- \n",
      " 0   id_x          1691 non-null   int64 \n",
      " 1   key           1691 non-null   object\n",
      " 2   dealer_id     1691 non-null   int64 \n",
      " 3   product_id    1691 non-null   int64 \n",
      " 4   product_name  1691 non-null   object\n",
      " 5   index         1691 non-null   int64 \n",
      " 6   id_y          1691 non-null   int64 \n",
      " 7   name          1691 non-null   object\n",
      "dtypes: int64(5), object(3)\n",
      "memory usage: 118.9+ KB\n"
     ]
    }
   ],
   "source": [
    "df_test.info()"
   ]
  },
  {
   "cell_type": "markdown",
   "id": "921b61f2",
   "metadata": {},
   "source": [
    "Сначала используем только одно название товара."
   ]
  },
  {
   "cell_type": "code",
   "execution_count": 21,
   "id": "7184d631",
   "metadata": {},
   "outputs": [],
   "source": [
    "my_model = t_fit(product, ['name'])\n",
    "df_test['predict'] = df_test['product_name'].apply(t_predict,args=(my_model))"
   ]
  },
  {
   "cell_type": "code",
   "execution_count": 22,
   "id": "9831813e",
   "metadata": {},
   "outputs": [],
   "source": [
    "# accuracy@5\n",
    "def t_compare(df):\n",
    "    return (df['index'] in (df['predict'][0:5])) "
   ]
  },
  {
   "cell_type": "code",
   "execution_count": 23,
   "id": "d55a7303",
   "metadata": {},
   "outputs": [
    {
     "name": "stdout",
     "output_type": "stream",
     "text": [
      "Accuracy@5:0.8581\n"
     ]
    }
   ],
   "source": [
    "acc = df_test[['index','predict']].apply(t_compare,axis=1).sum()/len(df_test)\n",
    "print(f'Accuracy@5:{acc:.4}')  "
   ]
  },
  {
   "cell_type": "code",
   "execution_count": 24,
   "id": "a96da05d",
   "metadata": {},
   "outputs": [],
   "source": [
    "# check if 'index' is first in in the list 'pred_index'\n",
    "def t_first(df):\n",
    "    return (df['index'] == df['predict'][0])"
   ]
  },
  {
   "cell_type": "code",
   "execution_count": 25,
   "id": "b488e384",
   "metadata": {},
   "outputs": [
    {
     "name": "stdout",
     "output_type": "stream",
     "text": [
      "Accuracy@1:0.4749\n"
     ]
    }
   ],
   "source": [
    "first = (df_test[['index','predict']].apply(t_first,axis=1).sum())/len(df_test)\n",
    "print(f'Accuracy@1:{first:.4}')"
   ]
  },
  {
   "cell_type": "code",
   "execution_count": 26,
   "id": "620a8f13",
   "metadata": {},
   "outputs": [],
   "source": [
    "# средняя позиция правильного товара в ранжированном списке\n",
    "def mean_reciprocal_rank(real_idx, prediction_idx, k=5):\n",
    "    \"\"\"\n",
    "    MRR - вычисление среднего обратного ранга для задачи рекомендации\n",
    "    real_id - массив с правильными id от заказчика\n",
    "    prediction_id - массив с предсказаниями, каждая строка - список предсказанных id.\n",
    "    k - количество предсказанных id\n",
    "    \n",
    "    \"\"\"\n",
    "    reciprocal_ranks = []\n",
    "\n",
    "    for i, rec in enumerate(prediction_idx):\n",
    "        recs = rec[:k]\n",
    "        relevant = real_idx[i]\n",
    "\n",
    "        if np.isin(relevant, recs):\n",
    "            rank = np.where(recs == relevant)[0][0] + 1\n",
    "            reciprocal_ranks.append(1 / rank)\n",
    "        else:\n",
    "            reciprocal_ranks.append(0)\n",
    "\n",
    "    return np.mean(reciprocal_ranks)"
   ]
  },
  {
   "cell_type": "code",
   "execution_count": 27,
   "id": "755ab353",
   "metadata": {},
   "outputs": [
    {
     "name": "stdout",
     "output_type": "stream",
     "text": [
      "MRR:0.6377\n"
     ]
    }
   ],
   "source": [
    "mrr=mean_reciprocal_rank(df_test['index'], df_test['predict'])\n",
    "print(f'MRR:{mrr:0.4}') "
   ]
  },
  {
   "cell_type": "code",
   "execution_count": 28,
   "id": "348cc46d",
   "metadata": {},
   "outputs": [],
   "source": [
    "# характеристики модели для сводной таблицы\n",
    "Model = ['TF-IDF']\n",
    "Params = ['word, ngram_range=(1,1)']\n",
    "Names = ['name']\n",
    "Accuracy5 = [round(acc, 4)]\n",
    "Accuracy1 = [round(first, 4)]\n",
    "MRR = [round(mrr, 4)]"
   ]
  },
  {
   "cell_type": "markdown",
   "id": "f53a3a5d",
   "metadata": {},
   "source": [
    "Теперь проверим модель при исмользовании всех имен."
   ]
  },
  {
   "cell_type": "code",
   "execution_count": 29,
   "id": "02656d44",
   "metadata": {},
   "outputs": [],
   "source": [
    "my_model = t_fit(product, ['name','ozon_name','name_1c','wb_name'])\n",
    "df_test['predict'] = df_test['product_name'].apply(t_predict,args=(my_model))"
   ]
  },
  {
   "cell_type": "code",
   "execution_count": 30,
   "id": "b647a902",
   "metadata": {},
   "outputs": [
    {
     "name": "stdout",
     "output_type": "stream",
     "text": [
      "Accuracy@5:0.8823\n",
      "Accuracy@1:0.4997\n",
      "MRR:0.662\n"
     ]
    }
   ],
   "source": [
    "acc = df_test[['index','predict']].apply(t_compare,axis=1).sum()/len(df_test)\n",
    "print(f'Accuracy@5:{acc:.4}')\n",
    "\n",
    "first = df_test[['index','predict']].apply(t_first,axis=1).sum()/len(df_test)\n",
    "print(f'Accuracy@1:{first:.4}')\n",
    "\n",
    "mrr=mean_reciprocal_rank(df_test['index'], df_test['predict'])\n",
    "print(f'MRR:{mrr:0.4}')"
   ]
  },
  {
   "cell_type": "code",
   "execution_count": 31,
   "id": "85137480",
   "metadata": {},
   "outputs": [],
   "source": [
    "# добавление характеристик модели для сводной таблицы\n",
    "Model.append('TF-IDF')\n",
    "Params.append('word, ngram_range=(1,1)')\n",
    "Names.append('name, ozon_name, name_1c, wb_name')\n",
    "Accuracy5.append(round(acc, 4))\n",
    "Accuracy1.append(round(first, 4))\n",
    "MRR.append(round(mrr, 4))"
   ]
  },
  {
   "cell_type": "markdown",
   "id": "fbe5bf55",
   "metadata": {},
   "source": [
    "Построим словарь не по словам, а по символам и парам символов."
   ]
  },
  {
   "cell_type": "code",
   "execution_count": 32,
   "id": "3a2d2485",
   "metadata": {},
   "outputs": [],
   "source": [
    "my_model = t_fit(product, ['name','ozon_name','name_1c','wb_name'], \n",
    "                 analyzer='char', ngram_range=(1,2), str_edit=str_edit_2)\n",
    "df_test['predict'] = df_test['product_name'].apply(t_predict,args=(my_model))"
   ]
  },
  {
   "cell_type": "code",
   "execution_count": 33,
   "id": "b88a81be",
   "metadata": {},
   "outputs": [
    {
     "name": "stdout",
     "output_type": "stream",
     "text": [
      "Accuracy@5:0.9154\n",
      "Accuracy@1:0.7061\n",
      "MRR:0.7892\n"
     ]
    }
   ],
   "source": [
    "acc = df_test[['index','predict']].apply(t_compare,axis=1).sum()/len(df_test)\n",
    "print(f'Accuracy@5:{acc:.4}')\n",
    "\n",
    "first = df_test[['index','predict']].apply(t_first,axis=1).sum()/len(df_test)\n",
    "print(f'Accuracy@1:{first:.4}')\n",
    "\n",
    "mrr=mean_reciprocal_rank(df_test['index'], df_test['predict'])\n",
    "print(f'MRR:{mrr:0.4}')"
   ]
  },
  {
   "cell_type": "code",
   "execution_count": 34,
   "id": "a1cdedfa",
   "metadata": {},
   "outputs": [],
   "source": [
    "# добавление характеристик модели для сводной таблицы\n",
    "Model.append('TF-IDF')\n",
    "Params.append('char, ngram_range=(1,2)')\n",
    "Names.append('name, ozon_name, name_1c, wb_name')\n",
    "Accuracy5.append(round(acc, 4))\n",
    "Accuracy1.append(round(first, 4))\n",
    "MRR.append(round(mrr, 4))"
   ]
  },
  {
   "cell_type": "markdown",
   "id": "56496575",
   "metadata": {},
   "source": [
    "Посмотрим, как изменяется точность в зависимости от предложения разного количества товаров (от 1 до 20)"
   ]
  },
  {
   "cell_type": "code",
   "execution_count": 35,
   "id": "67986b1e",
   "metadata": {
    "scrolled": true
   },
   "outputs": [],
   "source": [
    "res = {}\n",
    "for i in range(1,31):\n",
    "    def tn_compare(df):\n",
    "        return (df['index'] in (df['predict'][0:i]))\n",
    "\n",
    "    acc = df_test[['index','predict']].apply(tn_compare,axis=1).sum()/len(df_test)\n",
    "    res[i] = acc"
   ]
  },
  {
   "cell_type": "code",
   "execution_count": 36,
   "id": "8ff15c5d",
   "metadata": {
    "scrolled": true
   },
   "outputs": [
    {
     "data": {
      "image/png": "[encoded data removed]",
      "text/plain": [
       "<Figure size 432x288 with 1 Axes>"
      ]
     },
     "metadata": {
      "needs_background": "light"
     },
     "output_type": "display_data"
    }
   ],
   "source": [
    "plt.plot(list(res.keys()), list(res.values()))\n",
    "plt.xlabel('Кол-во ближайших названий, k')\n",
    "plt.ylabel('Accuracy@k')\n",
    "plt.show()"
   ]
  },
  {
   "cell_type": "markdown",
   "id": "87e11570",
   "metadata": {},
   "source": [
    "[Содержание](#Содержание) "
   ]
  },
  {
   "cell_type": "markdown",
   "id": "a7ace12f",
   "metadata": {},
   "source": [
    "### LaBSE\n",
    "\n",
    "Попробуем построить эмбеддинги с помощью предобученной модели LaBSE"
   ]
  },
  {
   "cell_type": "code",
   "execution_count": 37,
   "id": "cb5330df",
   "metadata": {},
   "outputs": [],
   "source": [
    "# подготовка данных для векторизации\n",
    "texts_producer = (product['name']+' '+ \n",
    "                  product['ozon_name'].astype(str)+' '+\n",
    "                  product['name_1c'].astype(str)+' '+\n",
    "                  product['wb_name'].astype(str))\n",
    "texts_dealer = df_test['product_name']"
   ]
  },
  {
   "cell_type": "code",
   "execution_count": 38,
   "id": "1277e785",
   "metadata": {},
   "outputs": [],
   "source": [
    "# загрузка предварительно обученной модели LaBSE\n",
    "model_LaBSE = SentenceTransformer('LaBSE')"
   ]
  },
  {
   "cell_type": "code",
   "execution_count": 39,
   "id": "1cc1ff93",
   "metadata": {},
   "outputs": [
    {
     "name": "stdout",
     "output_type": "stream",
     "text": [
      "CPU times: total: 51min 6s\n",
      "Wall time: 15min 28s\n"
     ]
    }
   ],
   "source": [
    "%%time\n",
    "# преобразование текстов в векторы\n",
    "producer_vec = model_LaBSE.encode(texts_producer.tolist(), convert_to_tensor=True)\n",
    "dealer_vec = model_LaBSE.encode(texts_dealer.tolist(), convert_to_tensor=True)"
   ]
  },
  {
   "cell_type": "code",
   "execution_count": 40,
   "id": "9007370a",
   "metadata": {},
   "outputs": [],
   "source": [
    "# измерение схожести (косинусное сходство)\n",
    "similarity_matrix = util.pytorch_cos_sim(dealer_vec, producer_vec)"
   ]
  },
  {
   "cell_type": "code",
   "execution_count": 41,
   "id": "f25af750",
   "metadata": {},
   "outputs": [
    {
     "data": {
      "text/plain": [
       "torch.Size([1691, 494])"
      ]
     },
     "execution_count": 41,
     "metadata": {},
     "output_type": "execute_result"
    }
   ],
   "source": [
    "similarity_matrix.shape"
   ]
  },
  {
   "cell_type": "code",
   "execution_count": 42,
   "id": "cff227c9",
   "metadata": {},
   "outputs": [],
   "source": [
    "df_test['predict'] = similarity_matrix.topk(N_COUNT).indices.tolist()"
   ]
  },
  {
   "cell_type": "code",
   "execution_count": 43,
   "id": "ca4974bf",
   "metadata": {},
   "outputs": [
    {
     "name": "stdout",
     "output_type": "stream",
     "text": [
      "Accuracy@5:0.9172\n",
      "Accuracy@1:0.7232\n",
      "MRR:0.8031\n"
     ]
    }
   ],
   "source": [
    "acc = df_test[['index','predict']].apply(t_compare,axis=1).sum()/len(df_test)\n",
    "print(f'Accuracy@5:{acc:.4}')\n",
    "\n",
    "first = df_test[['index','predict']].apply(t_first,axis=1).sum()/len(df_test)\n",
    "print(f'Accuracy@1:{first:.4}')\n",
    "\n",
    "mrr=mean_reciprocal_rank(df_test['index'], df_test['predict'])\n",
    "print(f'MRR:{mrr:0.4}')"
   ]
  },
  {
   "cell_type": "code",
   "execution_count": 44,
   "id": "575755e3",
   "metadata": {},
   "outputs": [],
   "source": [
    "# добавление характеристик модели для сводной таблицы\n",
    "Model.append('LaBSE')\n",
    "Params.append('-')\n",
    "Names.append('name, ozon_name, name_1c, wb_name')\n",
    "Accuracy5.append(round(acc, 4))\n",
    "Accuracy1.append(round(first, 4))\n",
    "MRR.append(round(mrr, 4))"
   ]
  },
  {
   "cell_type": "code",
   "execution_count": 45,
   "id": "306a5f76",
   "metadata": {},
   "outputs": [],
   "source": [
    "# DataFrame with all characteristics\n",
    "tbl = pd.DataFrame(\n",
    "    {'Модель': Model,\n",
    "     'Параметры': Params,\n",
    "     'Переменные имени': Names,\n",
    "     'Accuracy@5': Accuracy5,\n",
    "     'Accuracy@1': Accuracy1,\n",
    "     'MRR': MRR})"
   ]
  },
  {
   "cell_type": "code",
   "execution_count": 46,
   "id": "922b4196",
   "metadata": {},
   "outputs": [
    {
     "data": {
      "text/html": [
       "<div>\n",
       "<style scoped>\n",
       "    .dataframe tbody tr th:only-of-type {\n",
       "        vertical-align: middle;\n",
       "    }\n",
       "\n",
       "    .dataframe tbody tr th {\n",
       "        vertical-align: top;\n",
       "    }\n",
       "\n",
       "    .dataframe thead th {\n",
       "        text-align: right;\n",
       "    }\n",
       "</style>\n",
       "<table border=\"1\" class=\"dataframe\">\n",
       "  <thead>\n",
       "    <tr style=\"text-align: right;\">\n",
       "      <th></th>\n",
       "      <th>Модель</th>\n",
       "      <th>Параметры</th>\n",
       "      <th>Переменные имени</th>\n",
       "      <th>Accuracy@5</th>\n",
       "      <th>Accuracy@1</th>\n",
       "      <th>MRR</th>\n",
       "    </tr>\n",
       "  </thead>\n",
       "  <tbody>\n",
       "    <tr>\n",
       "      <th>3</th>\n",
       "      <td>LaBSE</td>\n",
       "      <td>-</td>\n",
       "      <td>name, ozon_name, name_1c, wb_name</td>\n",
       "      <td>0.9172</td>\n",
       "      <td>0.7232</td>\n",
       "      <td>0.8031</td>\n",
       "    </tr>\n",
       "    <tr>\n",
       "      <th>2</th>\n",
       "      <td>TF-IDF</td>\n",
       "      <td>char, ngram_range=(1,2)</td>\n",
       "      <td>name, ozon_name, name_1c, wb_name</td>\n",
       "      <td>0.9154</td>\n",
       "      <td>0.7061</td>\n",
       "      <td>0.7892</td>\n",
       "    </tr>\n",
       "    <tr>\n",
       "      <th>1</th>\n",
       "      <td>TF-IDF</td>\n",
       "      <td>word, ngram_range=(1,1)</td>\n",
       "      <td>name, ozon_name, name_1c, wb_name</td>\n",
       "      <td>0.8823</td>\n",
       "      <td>0.4997</td>\n",
       "      <td>0.6620</td>\n",
       "    </tr>\n",
       "    <tr>\n",
       "      <th>0</th>\n",
       "      <td>TF-IDF</td>\n",
       "      <td>word, ngram_range=(1,1)</td>\n",
       "      <td>name</td>\n",
       "      <td>0.8581</td>\n",
       "      <td>0.4749</td>\n",
       "      <td>0.6377</td>\n",
       "    </tr>\n",
       "  </tbody>\n",
       "</table>\n",
       "</div>"
      ],
      "text/plain": [
       "   Модель                Параметры                   Переменные имени  \\\n",
       "3   LaBSE                        -  name, ozon_name, name_1c, wb_name   \n",
       "2  TF-IDF  char, ngram_range=(1,2)  name, ozon_name, name_1c, wb_name   \n",
       "1  TF-IDF  word, ngram_range=(1,1)  name, ozon_name, name_1c, wb_name   \n",
       "0  TF-IDF  word, ngram_range=(1,1)                               name   \n",
       "\n",
       "   Accuracy@5  Accuracy@1     MRR  \n",
       "3      0.9172      0.7232  0.8031  \n",
       "2      0.9154      0.7061  0.7892  \n",
       "1      0.8823      0.4997  0.6620  \n",
       "0      0.8581      0.4749  0.6377  "
      ]
     },
     "execution_count": 46,
     "metadata": {},
     "output_type": "execute_result"
    }
   ],
   "source": [
    "tbl.sort_values(by='Accuracy@5', ascending=False)"
   ]
  },
  {
   "cell_type": "markdown",
   "id": "4f339f12",
   "metadata": {},
   "source": [
    "<a name=\"Выводы\"></a>\n",
    "## 5.Выводы.\n"
   ]
  },
  {
   "cell_type": "markdown",
   "id": "c2ea9e54",
   "metadata": {},
   "source": [
    "1. Для выявления самых похожих товаров заказчика для каждого товара дилера простое вычисление расстояний между текстовыми векторами названий товаров дает хорошие результаты.\n",
    "2. Наиболее точный результат получается при использовании в качестве названия заказчика \"сборного названия\", где основное наименование дополнено наименованиями для Ozone, Wildberries и 1C.\n",
    "3. При использовании в качестве векторизатора TF-IDF результат получается лучше при использовании уни и би-грамм символов, возможно, так как в названиях часто встречались написанныеслитнослова. При анализе по словам разбиение пробелами по заглавной букве и между словами и цифрами не решило эту проблему. Удаление пунктуации в первм случае улучшает результат.\n",
    "4. Лучшая метрика расположения правильного ответа относительно первой позиции (MRR) была достигнута при построении эмбеддингов с помощью предобученной модели LaBSE. При таком подходе удается рекомендовать правильный товар заказчика первым для 72 сравнений из 100.\n",
    "5. Стоит отметить, что построение эмбеддингов с помощью предобученной модели LaBSE это времязатратный процесс. В зависимости от мощностей компьютеров заказчика может длиться около 10-30 мин. Стоит оценить, на сколько небольшой выигрыш в точности предложения истинного товара заказчиа первым в списке предложенных оправдывает временные затраты. Так как при использовании для векторизации TF-IDF, также как и предобученной модели LaBSE, истинный товар заказчика нходится в списке 5 предложенны в 92 случаях из 100.\n",
    "6. Стоит проверить дополнительные методы для улучшения точности ранжирования. Например, обучение классификатора на 20 ближайших именах и выбор 5 (или другого указанного числа) лучших на основании предсказания модели. Было заметно, что более 20 товаров брать вероятно не стоит, точность предсказания не растет. "
   ]
  },
  {
   "cell_type": "markdown",
   "id": "d29263c2",
   "metadata": {},
   "source": [
    "**Рекомендации** для заказчика для улучшения модели предсказания.  \n",
    "- лучше проверять таблицу product, из-за ошибок в заполнении, могут возникнуть неправильные предсказания метчинг(странно, что одинаковому названию соответствует разные id, также исключить ошибки форматирования при запллнении(article,name).\n",
    "- не указана дата матчинга в датасета матчинга, что приводит к удалению дубликатов в dealerprice случайным образом, хотя скорее всего требовалась привязка по дате."
   ]
  }
 ],
 "metadata": {
  "kernelspec": {
   "display_name": "Python 3 (ipykernel)",
   "language": "python",
   "name": "python3"
  },
  "language_info": {
   "codemirror_mode": {
    "name": "ipython",
    "version": 3
   },
   "file_extension": ".py",
   "mimetype": "text/x-python",
   "name": "python",
   "nbconvert_exporter": "python",
   "pygments_lexer": "ipython3",
   "version": "3.9.12"
  },
  "toc": {
   "base_numbering": 1,
   "nav_menu": {},
   "number_sections": true,
   "sideBar": true,
   "skip_h1_title": true,
   "title_cell": "Table of Contents",
   "title_sidebar": "Contents",
   "toc_cell": true,
   "toc_position": {
    "height": "calc(100% - 180px)",
    "left": "10px",
    "top": "150px",
    "width": "256px"
   },
   "toc_section_display": true,
   "toc_window_display": true
  }
 },
 "nbformat": 4,
 "nbformat_minor": 5
}
