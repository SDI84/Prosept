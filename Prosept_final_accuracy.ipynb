{
 "cells": [
  {
   "cell_type": "code",
   "execution_count": 86,
   "id": "c9d54a75",
   "metadata": {},
   "outputs": [],
   "source": [
    "import pandas as pd\n",
    "import numpy as np\n",
    "import re\n",
    "import os\n",
    "import json\n",
    "\n",
    "#import nltk\n",
    "#from nltk import stopwords as nltk_stopwords\n",
    "#nltk.download('stopwords')\n",
    "from datetime import datetime\n",
    "\n",
    "from sklearn.feature_extraction.text import TfidfVectorizer\n",
    "from sklearn.metrics.pairwise import cosine_similarity\n",
    "\n",
    "import warnings\n",
    "warnings.filterwarnings(\"ignore\")"
   ]
  },
  {
   "cell_type": "code",
   "execution_count": 2,
   "id": "e317e85b",
   "metadata": {},
   "outputs": [],
   "source": [
    "# data path\n",
    "path = ['Datasets']\n",
    "\n",
    "# products from producer\n",
    "df_product = pd.read_csv(os.path.join(*path,'marketing_product.csv'), sep=';')\n",
    "\n",
    "# products from dealers\n",
    "df_dealerprice = pd.read_csv(os.path.join(*path,'marketing_dealerprice.csv'), sep=';')\n",
    "\n",
    "df_productdealerkey = pd.read_csv(os.path.join(*path,'marketing_productdealerkey.csv'), sep=';')\n"
   ]
  },
  {
   "cell_type": "code",
   "execution_count": 76,
   "id": "11c4e0f0",
   "metadata": {},
   "outputs": [],
   "source": [
    "#Датафрейм df_res будет содержать рекомендации\n",
    "df_res = df_dealerprice[['id', 'product_key']]"
   ]
  },
  {
   "cell_type": "code",
   "execution_count": 4,
   "id": "47287efd",
   "metadata": {},
   "outputs": [],
   "source": [
    "def clean_texts(name):\n",
    "    '''\n",
    "    Функции очистки текста.\n",
    "    Принимает на вход строку - название товара,\n",
    "    возвращает его в отредактированном виде\n",
    "    '''     \n",
    "    if not pd.isna(name):\n",
    "        # разделение слов\n",
    "        #name = ' '.join(re.split(r\"([A-Za-z][A-Za-z]*)\", name))\n",
    "        #name = ' '.join(re.split(r\"([A-Z][a-z]*)\", name))\n",
    "        #name = ' '.join(re.split(r\"([А-Я][а-я]*)\", name))\n",
    "        name = ' '.join(re.split(r\"([0-9][0-9]*)\", name))\n",
    "        # нижний регистр\n",
    "        name = name.lower()\n",
    "        # удаление пунктуации\n",
    "        name = re.sub(r\"[^а-яa-z\\d\\s]+\", ' ', name)        \n",
    "        # удаление слова \"prosept\"\n",
    "        name = re.sub(r\"prosept|просепт|professional\", ' ', name)\n",
    "        #name = ' '.join(list(set(name.split())))\n",
    "        # удаление стоп-слов\n",
    "        #name = ' '.join([word for word in name.split() if word not in stop_words])  \n",
    "    else:\n",
    "        name = ''    \n",
    "    return name"
   ]
  },
  {
   "cell_type": "code",
   "execution_count": 5,
   "id": "066e5751",
   "metadata": {},
   "outputs": [],
   "source": [
    "# TF-IDF\n",
    "vectorizer = TfidfVectorizer(analyzer='char', ngram_range=(1,2), max_df=0.6)"
   ]
  },
  {
   "cell_type": "code",
   "execution_count": 6,
   "id": "9964279f",
   "metadata": {},
   "outputs": [],
   "source": [
    "#В качестве исходного вектора продуктов используем все столбцы с наименованием продукции\n",
    "columns = ['name','ozon_name','name_1c','wb_name']"
   ]
  },
  {
   "cell_type": "code",
   "execution_count": 7,
   "id": "9656c66c",
   "metadata": {},
   "outputs": [],
   "source": [
    "def t_fit_tfidf(df,func=clean_texts,df_columns=['name']):\n",
    "\n",
    "    df_tmp = df[df_columns[0]].apply(func)\n",
    "\n",
    "    if len(df_columns)>1:\n",
    "        for i in range(1,len(df_columns)):\n",
    "            df_tmp = df_tmp + ' ' + df[df_columns[i]].apply(func)\n",
    "\n",
    "    model = vectorizer.fit_transform(df_tmp)\n",
    "\n",
    "    return model, df[['id','name']]"
   ]
  },
  {
   "cell_type": "code",
   "execution_count": 8,
   "id": "6022ac36",
   "metadata": {},
   "outputs": [
    {
     "name": "stdout",
     "output_type": "stream",
     "text": [
      "CPU times: user 185 ms, sys: 7.01 ms, total: 192 ms\n",
      "Wall time: 196 ms\n"
     ]
    }
   ],
   "source": [
    "%%time\n",
    "#Получим вектора из датафрейма df_product.\n",
    "product_vec, df_product_tfidf =  t_fit_tfidf(df_product,clean_texts,columns)"
   ]
  },
  {
   "cell_type": "code",
   "execution_count": 9,
   "id": "0d6d98ce",
   "metadata": {},
   "outputs": [],
   "source": [
    "def t_predict_tfidf(dealer_names):\n",
    "    dealer_vec = vectorizer.transform(dealer_names.apply(clean_texts))\n",
    "    return cosine_similarity(dealer_vec, product_vec)"
   ]
  },
  {
   "cell_type": "code",
   "execution_count": 10,
   "id": "515584ae",
   "metadata": {},
   "outputs": [
    {
     "name": "stdout",
     "output_type": "stream",
     "text": [
      "CPU times: user 2.79 s, sys: 151 ms, total: 2.94 s\n",
      "Wall time: 2.98 s\n"
     ]
    }
   ],
   "source": [
    "%%time\n",
    "#Получаем матрицу расстояний\n",
    "df_predict_tfidf = t_predict_tfidf(df_dealerprice['product_name'])"
   ]
  },
  {
   "cell_type": "code",
   "execution_count": 61,
   "id": "6d17af17",
   "metadata": {},
   "outputs": [],
   "source": [
    "# 10 индексов лучших совпадений для строк\n",
    "N_BEST=10\n",
    "indices =  df_predict_tfidf.argsort()[:, -N_BEST:][:, ::-1]\n",
    "quality = np.take_along_axis(df_predict_tfidf, indices, axis=1)"
   ]
  },
  {
   "cell_type": "code",
   "execution_count": 77,
   "id": "320a5316",
   "metadata": {},
   "outputs": [],
   "source": [
    "# для всех имен\n",
    "df_res.loc[:,'predict'] = indices.tolist()\n",
    "df_res.loc[:,'quality'] = quality.tolist()"
   ]
  },
  {
   "cell_type": "code",
   "execution_count": 78,
   "id": "ccdffe2b",
   "metadata": {},
   "outputs": [],
   "source": [
    "# dataframe to test\n",
    "df_test = (df_res[['product_key', 'predict']]\n",
    "           .merge(df_productdealerkey[['key', 'product_id']], \n",
    "                  how='left', \n",
    "                  left_on=['product_key'],right_on=['key']))"
   ]
  },
  {
   "cell_type": "code",
   "execution_count": 79,
   "id": "11d8bf88",
   "metadata": {},
   "outputs": [],
   "source": [
    "#df_res['queue'] = [[x for x in range(1,N_BEST+1)] for j in range(len(df_res))]\n",
    "df_res['queue'] = [list(range(1, N_BEST+1)) for _ in range(len(df_res))]"
   ]
  },
  {
   "cell_type": "code",
   "execution_count": 80,
   "id": "68380e6d",
   "metadata": {},
   "outputs": [
    {
     "data": {
      "text/html": [
       "<div>\n",
       "<style scoped>\n",
       "    .dataframe tbody tr th:only-of-type {\n",
       "        vertical-align: middle;\n",
       "    }\n",
       "\n",
       "    .dataframe tbody tr th {\n",
       "        vertical-align: top;\n",
       "    }\n",
       "\n",
       "    .dataframe thead th {\n",
       "        text-align: right;\n",
       "    }\n",
       "</style>\n",
       "<table border=\"1\" class=\"dataframe\">\n",
       "  <thead>\n",
       "    <tr style=\"text-align: right;\">\n",
       "      <th></th>\n",
       "      <th>id</th>\n",
       "      <th>product_key</th>\n",
       "      <th>quality</th>\n",
       "      <th>queue</th>\n",
       "      <th>product_id</th>\n",
       "      <th>create_date</th>\n",
       "    </tr>\n",
       "  </thead>\n",
       "  <tbody>\n",
       "    <tr>\n",
       "      <th>0</th>\n",
       "      <td>2</td>\n",
       "      <td>546227</td>\n",
       "      <td>0.808849</td>\n",
       "      <td>1</td>\n",
       "      <td>12</td>\n",
       "      <td>2023-12-07 19:59:27.616328</td>\n",
       "    </tr>\n",
       "    <tr>\n",
       "      <th>1</th>\n",
       "      <td>2</td>\n",
       "      <td>546227</td>\n",
       "      <td>0.717322</td>\n",
       "      <td>2</td>\n",
       "      <td>13</td>\n",
       "      <td>2023-12-07 19:59:27.616328</td>\n",
       "    </tr>\n",
       "    <tr>\n",
       "      <th>2</th>\n",
       "      <td>2</td>\n",
       "      <td>546227</td>\n",
       "      <td>0.681078</td>\n",
       "      <td>3</td>\n",
       "      <td>15</td>\n",
       "      <td>2023-12-07 19:59:27.616328</td>\n",
       "    </tr>\n",
       "    <tr>\n",
       "      <th>3</th>\n",
       "      <td>2</td>\n",
       "      <td>546227</td>\n",
       "      <td>0.674129</td>\n",
       "      <td>4</td>\n",
       "      <td>5</td>\n",
       "      <td>2023-12-07 19:59:27.616328</td>\n",
       "    </tr>\n",
       "    <tr>\n",
       "      <th>4</th>\n",
       "      <td>2</td>\n",
       "      <td>546227</td>\n",
       "      <td>0.656206</td>\n",
       "      <td>5</td>\n",
       "      <td>4</td>\n",
       "      <td>2023-12-07 19:59:27.616328</td>\n",
       "    </tr>\n",
       "    <tr>\n",
       "      <th>...</th>\n",
       "      <td>...</td>\n",
       "      <td>...</td>\n",
       "      <td>...</td>\n",
       "      <td>...</td>\n",
       "      <td>...</td>\n",
       "      <td>...</td>\n",
       "    </tr>\n",
       "    <tr>\n",
       "      <th>204155</th>\n",
       "      <td>20570</td>\n",
       "      <td>1077090171</td>\n",
       "      <td>0.386304</td>\n",
       "      <td>6</td>\n",
       "      <td>235</td>\n",
       "      <td>2023-12-07 19:59:27.616328</td>\n",
       "    </tr>\n",
       "    <tr>\n",
       "      <th>204156</th>\n",
       "      <td>20570</td>\n",
       "      <td>1077090171</td>\n",
       "      <td>0.385264</td>\n",
       "      <td>7</td>\n",
       "      <td>428</td>\n",
       "      <td>2023-12-07 19:59:27.616328</td>\n",
       "    </tr>\n",
       "    <tr>\n",
       "      <th>204157</th>\n",
       "      <td>20570</td>\n",
       "      <td>1077090171</td>\n",
       "      <td>0.381065</td>\n",
       "      <td>8</td>\n",
       "      <td>234</td>\n",
       "      <td>2023-12-07 19:59:27.616328</td>\n",
       "    </tr>\n",
       "    <tr>\n",
       "      <th>204158</th>\n",
       "      <td>20570</td>\n",
       "      <td>1077090171</td>\n",
       "      <td>0.377839</td>\n",
       "      <td>9</td>\n",
       "      <td>431</td>\n",
       "      <td>2023-12-07 19:59:27.616328</td>\n",
       "    </tr>\n",
       "    <tr>\n",
       "      <th>204159</th>\n",
       "      <td>20570</td>\n",
       "      <td>1077090171</td>\n",
       "      <td>0.37533</td>\n",
       "      <td>10</td>\n",
       "      <td>230</td>\n",
       "      <td>2023-12-07 19:59:27.616328</td>\n",
       "    </tr>\n",
       "  </tbody>\n",
       "</table>\n",
       "<p>204160 rows × 6 columns</p>\n",
       "</div>"
      ],
      "text/plain": [
       "           id product_key   quality queue  product_id  \\\n",
       "0           2      546227  0.808849     1          12   \n",
       "1           2      546227  0.717322     2          13   \n",
       "2           2      546227  0.681078     3          15   \n",
       "3           2      546227  0.674129     4           5   \n",
       "4           2      546227  0.656206     5           4   \n",
       "...       ...         ...       ...   ...         ...   \n",
       "204155  20570  1077090171  0.386304     6         235   \n",
       "204156  20570  1077090171  0.385264     7         428   \n",
       "204157  20570  1077090171  0.381065     8         234   \n",
       "204158  20570  1077090171  0.377839     9         431   \n",
       "204159  20570  1077090171   0.37533    10         230   \n",
       "\n",
       "                      create_date  \n",
       "0      2023-12-07 19:59:27.616328  \n",
       "1      2023-12-07 19:59:27.616328  \n",
       "2      2023-12-07 19:59:27.616328  \n",
       "3      2023-12-07 19:59:27.616328  \n",
       "4      2023-12-07 19:59:27.616328  \n",
       "...                           ...  \n",
       "204155 2023-12-07 19:59:27.616328  \n",
       "204156 2023-12-07 19:59:27.616328  \n",
       "204157 2023-12-07 19:59:27.616328  \n",
       "204158 2023-12-07 19:59:27.616328  \n",
       "204159 2023-12-07 19:59:27.616328  \n",
       "\n",
       "[204160 rows x 6 columns]"
      ]
     },
     "execution_count": 80,
     "metadata": {},
     "output_type": "execute_result"
    }
   ],
   "source": [
    "df_res=df_res.explode(['predict', 'quality', 'queue'])\n",
    "df_res = df_res.reset_index(drop=True)\n",
    "tmp_df = df_product['id'].loc[df_res['predict']].reset_index(drop=True)\n",
    "df_res['product_id'] = tmp_df\n",
    "df_res = df_res.drop('predict',axis=1)\n",
    "df_res['create_date'] = datetime.now()\n",
    "df_res"
   ]
  },
  {
   "cell_type": "markdown",
   "id": "8283e6e0",
   "metadata": {},
   "source": [
    "## Check accuracy"
   ]
  },
  {
   "cell_type": "code",
   "execution_count": 81,
   "id": "67899665",
   "metadata": {},
   "outputs": [],
   "source": [
    "def get_product_ids(predict_list):\n",
    "    return [df_product['id'].reset_index(drop=True).iloc[i] for i in predict_list]\n",
    "\n",
    "df_test['pred_product_id'] = df_test['predict'].apply(get_product_ids)"
   ]
  },
  {
   "cell_type": "code",
   "execution_count": 82,
   "id": "51890373",
   "metadata": {},
   "outputs": [
    {
     "name": "stdout",
     "output_type": "stream",
     "text": [
      "<class 'pandas.core.frame.DataFrame'>\n",
      "RangeIndex: 17567 entries, 0 to 17566\n",
      "Data columns (total 5 columns):\n",
      " #   Column           Non-Null Count  Dtype  \n",
      "---  ------           --------------  -----  \n",
      " 0   product_key      17567 non-null  object \n",
      " 1   predict          17567 non-null  object \n",
      " 2   key              17567 non-null  object \n",
      " 3   product_id       17567 non-null  float64\n",
      " 4   pred_product_id  17567 non-null  object \n",
      "dtypes: float64(1), object(4)\n",
      "memory usage: 686.3+ KB\n"
     ]
    }
   ],
   "source": [
    "df_test=df_test.dropna().reset_index(drop=True)\n",
    "df_test.info()"
   ]
  },
  {
   "cell_type": "code",
   "execution_count": 83,
   "id": "bd833934",
   "metadata": {},
   "outputs": [],
   "source": [
    "# accuracy@5\n",
    "def t_compare(df):\n",
    "    return (df['product_id'] in (df['pred_product_id'][0:5]))\n",
    "\n",
    "# accuracy@1\n",
    "def t_first(df):\n",
    "    return (df['product_id'] == df['pred_product_id'][0])"
   ]
  },
  {
   "cell_type": "code",
   "execution_count": 84,
   "id": "13e2822c",
   "metadata": {},
   "outputs": [],
   "source": [
    "# средняя позиция правильного товара в ранжированном списке\n",
    "def mean_reciprocal_rank(real_id, prediction_id, k=5):\n",
    "    \"\"\"\n",
    "    MRR - вычисление среднего обратного ранга для задачи рекомендации\n",
    "    real_id - массив с правильными id от заказчика\n",
    "    prediction_id - массив с предсказаниями, каждая строка - список предсказанных id.\n",
    "    k - количество предсказанных id\n",
    "    \n",
    "    \"\"\"\n",
    "    reciprocal_ranks = []\n",
    "\n",
    "    for i, rec in enumerate(prediction_id):\n",
    "        recs = rec[:k]\n",
    "        relevant = real_id[i]\n",
    "\n",
    "        if np.isin(relevant, recs):\n",
    "            rank = np.where(recs == relevant)[0][0] + 1\n",
    "            reciprocal_ranks.append(1 / rank)\n",
    "        else:\n",
    "            reciprocal_ranks.append(0)\n",
    "\n",
    "    return np.mean(reciprocal_ranks)"
   ]
  },
  {
   "cell_type": "code",
   "execution_count": 85,
   "id": "7a2d8305",
   "metadata": {},
   "outputs": [
    {
     "name": "stdout",
     "output_type": "stream",
     "text": [
      "Accuracy@5:0.9321\n",
      "Accuracy@1:0.7397\n",
      "MRR:0.8164\n"
     ]
    }
   ],
   "source": [
    "acc = df_test[['product_id','pred_product_id']].apply(t_compare,axis=1).sum()/len(df_test)\n",
    "print(f'Accuracy@5:{acc:.4}')\n",
    "\n",
    "first = df_test[['product_id','pred_product_id']].apply(t_first,axis=1).sum()/len(df_test)\n",
    "print(f'Accuracy@1:{first:.4}')\n",
    "\n",
    "mrr=mean_reciprocal_rank(df_test['product_id'], df_test['pred_product_id'])\n",
    "print(f'MRR:{mrr:0.4}') "
   ]
  },
  {
   "cell_type": "code",
   "execution_count": null,
   "id": "88764a0f",
   "metadata": {},
   "outputs": [],
   "source": []
  }
 ],
 "metadata": {
  "kernelspec": {
   "display_name": "Python 3 (ipykernel)",
   "language": "python",
   "name": "python3"
  },
  "language_info": {
   "codemirror_mode": {
    "name": "ipython",
    "version": 3
   },
   "file_extension": ".py",
   "mimetype": "text/x-python",
   "name": "python",
   "nbconvert_exporter": "python",
   "pygments_lexer": "ipython3",
   "version": "3.10.4"
  },
  "toc": {
   "base_numbering": 1,
   "nav_menu": {},
   "number_sections": true,
   "sideBar": false,
   "skip_h1_title": false,
   "title_cell": "Table of Contents",
   "title_sidebar": "Contents",
   "toc_cell": false,
   "toc_position": {
    "height": "431.333px",
    "left": "70px",
    "top": "250px",
    "width": "256px"
   },
   "toc_section_display": false,
   "toc_window_display": false
  }
 },
 "nbformat": 4,
 "nbformat_minor": 5
}
